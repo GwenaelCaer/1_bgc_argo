{
 "cells": [
  {
   "cell_type": "markdown",
   "id": "bd810301-5d74-4ca4-adab-21952dbd3746",
   "metadata": {},
   "source": [
    "<img src='https://gitlab.ifremer.fr/odatis/vre/tools/frameworks/-/raw/main/img/standard_banner.png' align='right' width='100%'/>"
   ]
  },
  {
   "cell_type": "markdown",
   "id": "ebed3280-8591-4d57-9326-4d64679b8b94",
   "metadata": {},
   "source": [
    "<font color=\"#2367a2\">**Gaia Data Project**</font> <br>\n",
    "**Copyright:** 2025 ODATIS<br>\n",
    "**License:** ??? <br>\n",
    "**Authors:** Gwenaël CAËR (CNRS/ ODATIS), Catherine Schmechtig (CNRS/ ODATIS)"
   ]
  },
  {
   "cell_type": "markdown",
   "id": "f2cd7570-a748-4fba-9185-a9e20d460fe8",
   "metadata": {},
   "source": [
    "<div class=\"alert alert-block alert-warning\">\n",
    "    \n",
    "<b>PREREQUISITES </b>\n",
    "    \n",
    "This notebook has the following prerequisites:\n",
    "- **<a href=\" https://data.marine.copernicus.eu/register\" target=\"_blank\">A Copernicus Marine account</a>** if you are using or plan to use the Copernicus Marine Data Store\n",
    "\n",
    "There are no prerequisite notebooks for this module.\n",
    "</div>"
   ]
  },
  {
   "cell_type": "markdown",
   "id": "7239effd-a580-4ea3-a8b1-d38470731dee",
   "metadata": {},
   "source": [
    "<hr>\n",
    "\n",
    "# 2. Accessing OCEANCOLOUR data\n",
    "\n",
    "<hr>"
   ]
  },
  {
   "cell_type": "markdown",
   "id": "44ed0484-aaee-4fa3-9d4c-212fac6f1af0",
   "metadata": {},
   "source": [
    "<div class=\"alert alert-block alert-success\">\n",
    "\n",
    "<h3>Learning outcomes</h3> \n",
    "\n",
    "At the end of this notebook you will know;\n",
    "* How to <font color=\"#2367a2\">**access**</font> Global Ocean Colour data from Copernicus Marine Data Store using the `copernicusmarine` toolbox.\n",
    "* How to <font color=\"#2367a2\">**select**</font> a subset and plot the data.\n",
    "</div>"
   ]
  },
  {
   "cell_type": "markdown",
   "id": "4cd3d290-6771-4695-a727-671713d72e71",
   "metadata": {},
   "source": [
    "We begin by importing all of the libraries that we need to run this notebook. If you have built your python using the environment file provided in this repository, then you should have everything you need. For more information on building environment, please see the repository **<a href=\"./README.md\" target=\"_blank\">README</a>**."
   ]
  },
  {
   "cell_type": "code",
   "execution_count": 1,
   "id": "37fe219b-3b79-44fa-aa67-8a4ec59ad609",
   "metadata": {},
   "outputs": [],
   "source": [
    "import copernicusmarine\n",
    "import xarray as xr"
   ]
  },
  {
   "cell_type": "markdown",
   "id": "dd84d427-7659-4ada-ab8d-e04a4a18e1b7",
   "metadata": {},
   "source": [
    "## 2.1 Load OCEANCOLOUR data\n",
    "\n",
    "### Official access"
   ]
  },
  {
   "cell_type": "markdown",
   "id": "a800d23d-c1f8-4b48-b81f-d755ef235673",
   "metadata": {},
   "source": [
    "The Global Ocean Colour product is made available by Copernicus Marine Service under the identifier `OCEANCOLOUR_GLO_BGC_L3_MY_009_103`. It is made up of several datasets, but only 4 will interest us in this use case:\n",
    "\n",
    "* **Optics:** cmems_obs-oc_glo_bgc-optics_my_l3-multi-4km_P1D\n",
    "* **Plankton:** cmems_obs-oc_glo_bgc-plankton_my_l3-multi-4km_P1D\n",
    "* **Reflectance:** cmems_obs-oc_glo_bgc-reflectance_my_l3-multi-4km_P1D\n",
    "* **Transparency:** cmems_obs-oc_glo_bgc-transp_my_l3-multi-4km_P1D\n",
    "\n",
    "Copernicus Marine has set up a toolbox, called `copernicusmarine`, to access the data."
   ]
  },
  {
   "cell_type": "markdown",
   "id": "9823289a-4b19-49ae-8a40-90e43ab60ed0",
   "metadata": {},
   "source": [
    "**Get a user account**\n",
    "\n",
    "Access to Copernicus Marine data requires a Copernicus Marine username and password, sign up for free at: https://data.marine.copernicus.eu/register."
   ]
  },
  {
   "cell_type": "markdown",
   "id": "9b71b9c1-3b07-40b6-8c9d-b182111200c6",
   "metadata": {},
   "source": [
    "**Login**\n",
    "\n",
    "Once the account has been created, you need to log in to the Copernicus Marine service to download the data. This is done using the `copernicusmarine.login()` command, and all you have to do is enter your username and password. "
   ]
  },
  {
   "cell_type": "code",
   "execution_count": null,
   "id": "3777ff41-097c-4f8a-9815-0fd8c6a93634",
   "metadata": {},
   "outputs": [],
   "source": [
    "copernicusmarine.login()"
   ]
  },
  {
   "cell_type": "markdown",
   "id": "804352c5-a604-4adf-8c5a-c7bb2eca6fcb",
   "metadata": {},
   "source": [
    "**Open Dataset**\n",
    "\n",
    "The datasets we are interested in can be accessed via various services. In this use case we are interested in the ARCO (Analysis Ready Cloud Optimize) Zarr format. This format has the particularity of storing data in the form of chunks, which allows access to part of the data without downloading the entire dataset. \n",
    "\n",
    "In our case, Copernicus Marine offers 2 ARCO services:\n",
    "* **GeoSeries:** with a small chunk size over the time dimension and a large chunk size over longitude and latitude dimensions, optimized for analyzing large geographic domains over a short time span.\n",
    "* **TimeSeries:** with a small chunk size over longitude and latitude dimensions and a large chunk size over the time dimension, optimized for analyzing the whole time series over a relatively small domain."
   ]
  },
  {
   "cell_type": "code",
   "execution_count": 14,
   "id": "4a69ad8f-24fa-4764-9761-3c0705486881",
   "metadata": {},
   "outputs": [],
   "source": [
    "# The different datasets required for this use case\n",
    "dataset_ids = {\n",
    "    'optics': 'cmems_obs-oc_glo_bgc-optics_my_l3-multi-4km_P1D',\n",
    "    'plankton': 'cmems_obs-oc_glo_bgc-plankton_my_l3-multi-4km_P1D',\n",
    "    'reflectance': 'cmems_obs-oc_glo_bgc-reflectance_my_l3-multi-4km_P1D',\n",
    "    'transp': 'cmems_obs-oc_glo_bgc-transp_my_l3-multi-4km_P1D',\n",
    "}\n",
    "\n",
    "# Choose a service and a dataset name\n",
    "service = 'timeseries' # or 'geoseries'\n",
    "name = 'plankton'\n",
    "dataset_id = dataset_ids[name]"
   ]
  },
  {
   "cell_type": "markdown",
   "id": "db1070ff-3ea4-416e-83eb-0ef1338ca883",
   "metadata": {},
   "source": [
    "To open a dataset, simply enter its identifier and specify the service you want to use, in our case `timeseries` or `geoseries`."
   ]
  },
  {
   "cell_type": "code",
   "execution_count": 15,
   "id": "294dd2c5-c074-4b93-ba2d-58e484295b82",
   "metadata": {},
   "outputs": [
    {
     "name": "stderr",
     "output_type": "stream",
     "text": [
      "INFO - 2025-02-05T14:45:09Z - Selected dataset version: \"202411\"\n",
      "INFO - 2025-02-05T14:45:09Z - Selected dataset part: \"default\"\n"
     ]
    },
    {
     "name": "stdout",
     "output_type": "stream",
     "text": [
      "CPU times: user 616 ms, sys: 80 ms, total: 696 ms\n",
      "Wall time: 3.6 s\n"
     ]
    }
   ],
   "source": [
    "%%time\n",
    "# Open a single dataset\n",
    "ds = copernicusmarine.open_dataset(\n",
    "    dataset_id = dataset_id,\n",
    "    service = service, \n",
    "    chunk_size_limit = 0\n",
    ")"
   ]
  },
  {
   "cell_type": "markdown",
   "id": "5e282d74-fa32-4272-9479-63b4bd23f252",
   "metadata": {},
   "source": [
    "### Advanced access"
   ]
  },
  {
   "cell_type": "markdown",
   "id": "def4eaca-b1ab-4a16-bbc6-67a83efa9905",
   "metadata": {},
   "source": [
    "The official way to access ARGO data is via the Copernicus Marine toolbox, however it is sometimes necessary to access the data directly via the S3 protocol. "
   ]
  },
  {
   "cell_type": "markdown",
   "id": "9b9c82ab-1728-47b1-a87c-db3ef5d90e53",
   "metadata": {},
   "source": [
    "<div class=\"alert alert-block alert-danger\">\n",
    "<b>Warning:</b> This solution is not encouraged by Copernicus Marine, as it does not undertake to guarantee the maintenance of S3 URLs.\n",
    "</div>"
   ]
  },
  {
   "cell_type": "code",
   "execution_count": 16,
   "id": "13f768ce-1279-4c0a-a58b-e9593d88791c",
   "metadata": {},
   "outputs": [],
   "source": [
    "# The different s3 urls for the datasets required in this use case\n",
    "urls = {\n",
    "    'timeseries': {\n",
    "        'optics': 's3://mdl-arco-time-042/arco/OCEANCOLOUR_GLO_BGC_L3_MY_009_103/cmems_obs-oc_glo_bgc-optics_my_l3-multi-4km_P1D_202311/timeChunked.zarr',\n",
    "        'plankton': 's3://mdl-arco-time-063/arco/OCEANCOLOUR_GLO_BGC_L3_MY_009_103/cmems_obs-oc_glo_bgc-plankton_my_l3-multi-4km_P1D_202411/timeChunked.zarr',\n",
    "        'reflectance': 's3://mdl-arco-time-063/arco/OCEANCOLOUR_GLO_BGC_L3_MY_009_103/cmems_obs-oc_glo_bgc-reflectance_my_l3-multi-4km_P1D_202311/timeChunked.zarr',\n",
    "        'transp': 's3://mdl-arco-time-063/arco/OCEANCOLOUR_GLO_BGC_L3_MY_009_103/cmems_obs-oc_glo_bgc-transp_my_l3-multi-4km_P1D_202311/timeChunked.zarr'},\n",
    "    'geoseries': {\n",
    "        'optics': 's3://mdl-arco-geo-042/arco/OCEANCOLOUR_GLO_BGC_L3_MY_009_103/cmems_obs-oc_glo_bgc-optics_my_l3-multi-4km_P1D_202311/geoChunked.zarr',\n",
    "        'plankton': 's3://mdl-arco-geo-063/arco/OCEANCOLOUR_GLO_BGC_L3_MY_009_103/cmems_obs-oc_glo_bgc-plankton_my_l3-multi-4km_P1D_202411/geoChunked.zarr',\n",
    "        'reflectance': 's3://mdl-arco-geo-063/arco/OCEANCOLOUR_GLO_BGC_L3_MY_009_103/cmems_obs-oc_glo_bgc-reflectance_my_l3-multi-4km_P1D_202311/geoChunked.zarr',\n",
    "        'transp': 's3://mdl-arco-geo-063/arco/OCEANCOLOUR_GLO_BGC_L3_MY_009_103/cmems_obs-oc_glo_bgc-transp_my_l3-multi-4km_P1D_202311/geoChunked.zarr'\n",
    "    }\n",
    "}\n",
    "\n",
    "# Choose a service and a dataset name\n",
    "service = 'timeseries' # or 'geoseries'\n",
    "name = 'plankton'\n",
    "url = urls[service][name]"
   ]
  },
  {
   "cell_type": "markdown",
   "id": "d1658313-8cac-46b8-9da0-afc92c144fff",
   "metadata": {},
   "source": [
    "To open the dataset, we use the `open_zarr` function in the `xarray` library. "
   ]
  },
  {
   "cell_type": "code",
   "execution_count": 17,
   "id": "4a820c8a-0342-4dec-b8b8-362583a2d2d6",
   "metadata": {},
   "outputs": [],
   "source": [
    "storage_options={\n",
    "    \"anon\":True,\n",
    "    \"client_kwargs\": {\n",
    "        \"endpoint_url\": \"https://s3.waw3-1.cloudferro.com\",\n",
    "    },\n",
    "}\n",
    "# Open a single dataset\n",
    "ds = xr.open_zarr(url, storage_options=storage_options, chunks=None)"
   ]
  },
  {
   "cell_type": "markdown",
   "id": "82437ba2-cfe2-4f5e-b834-039ed30be16d",
   "metadata": {},
   "source": [
    "## 2.2 Analyse data"
   ]
  },
  {
   "cell_type": "markdown",
   "id": "bb55a7ed-8889-4fd9-a044-955dc793be9a",
   "metadata": {},
   "source": [
    "Now that we've loaded the data, let's start exploring it. \n",
    "\n",
    "*NB: here we will concentrate on the `plankton` dataset, but the operations are necessary for the other datasets.*"
   ]
  },
  {
   "cell_type": "code",
   "execution_count": 19,
   "id": "90fca42c-589f-4d01-b045-01a7d50732bb",
   "metadata": {},
   "outputs": [
    {
     "data": {
      "text/html": [
       "<div><svg style=\"position: absolute; width: 0; height: 0; overflow: hidden\">\n",
       "<defs>\n",
       "<symbol id=\"icon-database\" viewBox=\"0 0 32 32\">\n",
       "<path d=\"M16 0c-8.837 0-16 2.239-16 5v4c0 2.761 7.163 5 16 5s16-2.239 16-5v-4c0-2.761-7.163-5-16-5z\"></path>\n",
       "<path d=\"M16 17c-8.837 0-16-2.239-16-5v6c0 2.761 7.163 5 16 5s16-2.239 16-5v-6c0 2.761-7.163 5-16 5z\"></path>\n",
       "<path d=\"M16 26c-8.837 0-16-2.239-16-5v6c0 2.761 7.163 5 16 5s16-2.239 16-5v-6c0 2.761-7.163 5-16 5z\"></path>\n",
       "</symbol>\n",
       "<symbol id=\"icon-file-text2\" viewBox=\"0 0 32 32\">\n",
       "<path d=\"M28.681 7.159c-0.694-0.947-1.662-2.053-2.724-3.116s-2.169-2.030-3.116-2.724c-1.612-1.182-2.393-1.319-2.841-1.319h-15.5c-1.378 0-2.5 1.121-2.5 2.5v27c0 1.378 1.122 2.5 2.5 2.5h23c1.378 0 2.5-1.122 2.5-2.5v-19.5c0-0.448-0.137-1.23-1.319-2.841zM24.543 5.457c0.959 0.959 1.712 1.825 2.268 2.543h-4.811v-4.811c0.718 0.556 1.584 1.309 2.543 2.268zM28 29.5c0 0.271-0.229 0.5-0.5 0.5h-23c-0.271 0-0.5-0.229-0.5-0.5v-27c0-0.271 0.229-0.5 0.5-0.5 0 0 15.499-0 15.5 0v7c0 0.552 0.448 1 1 1h7v19.5z\"></path>\n",
       "<path d=\"M23 26h-14c-0.552 0-1-0.448-1-1s0.448-1 1-1h14c0.552 0 1 0.448 1 1s-0.448 1-1 1z\"></path>\n",
       "<path d=\"M23 22h-14c-0.552 0-1-0.448-1-1s0.448-1 1-1h14c0.552 0 1 0.448 1 1s-0.448 1-1 1z\"></path>\n",
       "<path d=\"M23 18h-14c-0.552 0-1-0.448-1-1s0.448-1 1-1h14c0.552 0 1 0.448 1 1s-0.448 1-1 1z\"></path>\n",
       "</symbol>\n",
       "</defs>\n",
       "</svg>\n",
       "<style>/* CSS stylesheet for displaying xarray objects in jupyterlab.\n",
       " *\n",
       " */\n",
       "\n",
       ":root {\n",
       "  --xr-font-color0: var(--jp-content-font-color0, rgba(0, 0, 0, 1));\n",
       "  --xr-font-color2: var(--jp-content-font-color2, rgba(0, 0, 0, 0.54));\n",
       "  --xr-font-color3: var(--jp-content-font-color3, rgba(0, 0, 0, 0.38));\n",
       "  --xr-border-color: var(--jp-border-color2, #e0e0e0);\n",
       "  --xr-disabled-color: var(--jp-layout-color3, #bdbdbd);\n",
       "  --xr-background-color: var(--jp-layout-color0, white);\n",
       "  --xr-background-color-row-even: var(--jp-layout-color1, white);\n",
       "  --xr-background-color-row-odd: var(--jp-layout-color2, #eeeeee);\n",
       "}\n",
       "\n",
       "html[theme=\"dark\"],\n",
       "html[data-theme=\"dark\"],\n",
       "body[data-theme=\"dark\"],\n",
       "body.vscode-dark {\n",
       "  --xr-font-color0: rgba(255, 255, 255, 1);\n",
       "  --xr-font-color2: rgba(255, 255, 255, 0.54);\n",
       "  --xr-font-color3: rgba(255, 255, 255, 0.38);\n",
       "  --xr-border-color: #1f1f1f;\n",
       "  --xr-disabled-color: #515151;\n",
       "  --xr-background-color: #111111;\n",
       "  --xr-background-color-row-even: #111111;\n",
       "  --xr-background-color-row-odd: #313131;\n",
       "}\n",
       "\n",
       ".xr-wrap {\n",
       "  display: block !important;\n",
       "  min-width: 300px;\n",
       "  max-width: 700px;\n",
       "}\n",
       "\n",
       ".xr-text-repr-fallback {\n",
       "  /* fallback to plain text repr when CSS is not injected (untrusted notebook) */\n",
       "  display: none;\n",
       "}\n",
       "\n",
       ".xr-header {\n",
       "  padding-top: 6px;\n",
       "  padding-bottom: 6px;\n",
       "  margin-bottom: 4px;\n",
       "  border-bottom: solid 1px var(--xr-border-color);\n",
       "}\n",
       "\n",
       ".xr-header > div,\n",
       ".xr-header > ul {\n",
       "  display: inline;\n",
       "  margin-top: 0;\n",
       "  margin-bottom: 0;\n",
       "}\n",
       "\n",
       ".xr-obj-type,\n",
       ".xr-array-name {\n",
       "  margin-left: 2px;\n",
       "  margin-right: 10px;\n",
       "}\n",
       "\n",
       ".xr-obj-type {\n",
       "  color: var(--xr-font-color2);\n",
       "}\n",
       "\n",
       ".xr-sections {\n",
       "  padding-left: 0 !important;\n",
       "  display: grid;\n",
       "  grid-template-columns: 150px auto auto 1fr 0 20px 0 20px;\n",
       "}\n",
       "\n",
       ".xr-section-item {\n",
       "  display: contents;\n",
       "}\n",
       "\n",
       ".xr-section-item input {\n",
       "  display: inline-block;\n",
       "  opacity: 0;\n",
       "  height: 0;\n",
       "}\n",
       "\n",
       ".xr-section-item input + label {\n",
       "  color: var(--xr-disabled-color);\n",
       "}\n",
       "\n",
       ".xr-section-item input:enabled + label {\n",
       "  cursor: pointer;\n",
       "  color: var(--xr-font-color2);\n",
       "}\n",
       "\n",
       ".xr-section-item input:focus + label {\n",
       "  border: 2px solid var(--xr-font-color0);\n",
       "}\n",
       "\n",
       ".xr-section-item input:enabled + label:hover {\n",
       "  color: var(--xr-font-color0);\n",
       "}\n",
       "\n",
       ".xr-section-summary {\n",
       "  grid-column: 1;\n",
       "  color: var(--xr-font-color2);\n",
       "  font-weight: 500;\n",
       "}\n",
       "\n",
       ".xr-section-summary > span {\n",
       "  display: inline-block;\n",
       "  padding-left: 0.5em;\n",
       "}\n",
       "\n",
       ".xr-section-summary-in:disabled + label {\n",
       "  color: var(--xr-font-color2);\n",
       "}\n",
       "\n",
       ".xr-section-summary-in + label:before {\n",
       "  display: inline-block;\n",
       "  content: \"►\";\n",
       "  font-size: 11px;\n",
       "  width: 15px;\n",
       "  text-align: center;\n",
       "}\n",
       "\n",
       ".xr-section-summary-in:disabled + label:before {\n",
       "  color: var(--xr-disabled-color);\n",
       "}\n",
       "\n",
       ".xr-section-summary-in:checked + label:before {\n",
       "  content: \"▼\";\n",
       "}\n",
       "\n",
       ".xr-section-summary-in:checked + label > span {\n",
       "  display: none;\n",
       "}\n",
       "\n",
       ".xr-section-summary,\n",
       ".xr-section-inline-details {\n",
       "  padding-top: 4px;\n",
       "  padding-bottom: 4px;\n",
       "}\n",
       "\n",
       ".xr-section-inline-details {\n",
       "  grid-column: 2 / -1;\n",
       "}\n",
       "\n",
       ".xr-section-details {\n",
       "  display: none;\n",
       "  grid-column: 1 / -1;\n",
       "  margin-bottom: 5px;\n",
       "}\n",
       "\n",
       ".xr-section-summary-in:checked ~ .xr-section-details {\n",
       "  display: contents;\n",
       "}\n",
       "\n",
       ".xr-array-wrap {\n",
       "  grid-column: 1 / -1;\n",
       "  display: grid;\n",
       "  grid-template-columns: 20px auto;\n",
       "}\n",
       "\n",
       ".xr-array-wrap > label {\n",
       "  grid-column: 1;\n",
       "  vertical-align: top;\n",
       "}\n",
       "\n",
       ".xr-preview {\n",
       "  color: var(--xr-font-color3);\n",
       "}\n",
       "\n",
       ".xr-array-preview,\n",
       ".xr-array-data {\n",
       "  padding: 0 5px !important;\n",
       "  grid-column: 2;\n",
       "}\n",
       "\n",
       ".xr-array-data,\n",
       ".xr-array-in:checked ~ .xr-array-preview {\n",
       "  display: none;\n",
       "}\n",
       "\n",
       ".xr-array-in:checked ~ .xr-array-data,\n",
       ".xr-array-preview {\n",
       "  display: inline-block;\n",
       "}\n",
       "\n",
       ".xr-dim-list {\n",
       "  display: inline-block !important;\n",
       "  list-style: none;\n",
       "  padding: 0 !important;\n",
       "  margin: 0;\n",
       "}\n",
       "\n",
       ".xr-dim-list li {\n",
       "  display: inline-block;\n",
       "  padding: 0;\n",
       "  margin: 0;\n",
       "}\n",
       "\n",
       ".xr-dim-list:before {\n",
       "  content: \"(\";\n",
       "}\n",
       "\n",
       ".xr-dim-list:after {\n",
       "  content: \")\";\n",
       "}\n",
       "\n",
       ".xr-dim-list li:not(:last-child):after {\n",
       "  content: \",\";\n",
       "  padding-right: 5px;\n",
       "}\n",
       "\n",
       ".xr-has-index {\n",
       "  font-weight: bold;\n",
       "}\n",
       "\n",
       ".xr-var-list,\n",
       ".xr-var-item {\n",
       "  display: contents;\n",
       "}\n",
       "\n",
       ".xr-var-item > div,\n",
       ".xr-var-item label,\n",
       ".xr-var-item > .xr-var-name span {\n",
       "  background-color: var(--xr-background-color-row-even);\n",
       "  margin-bottom: 0;\n",
       "}\n",
       "\n",
       ".xr-var-item > .xr-var-name:hover span {\n",
       "  padding-right: 5px;\n",
       "}\n",
       "\n",
       ".xr-var-list > li:nth-child(odd) > div,\n",
       ".xr-var-list > li:nth-child(odd) > label,\n",
       ".xr-var-list > li:nth-child(odd) > .xr-var-name span {\n",
       "  background-color: var(--xr-background-color-row-odd);\n",
       "}\n",
       "\n",
       ".xr-var-name {\n",
       "  grid-column: 1;\n",
       "}\n",
       "\n",
       ".xr-var-dims {\n",
       "  grid-column: 2;\n",
       "}\n",
       "\n",
       ".xr-var-dtype {\n",
       "  grid-column: 3;\n",
       "  text-align: right;\n",
       "  color: var(--xr-font-color2);\n",
       "}\n",
       "\n",
       ".xr-var-preview {\n",
       "  grid-column: 4;\n",
       "}\n",
       "\n",
       ".xr-index-preview {\n",
       "  grid-column: 2 / 5;\n",
       "  color: var(--xr-font-color2);\n",
       "}\n",
       "\n",
       ".xr-var-name,\n",
       ".xr-var-dims,\n",
       ".xr-var-dtype,\n",
       ".xr-preview,\n",
       ".xr-attrs dt {\n",
       "  white-space: nowrap;\n",
       "  overflow: hidden;\n",
       "  text-overflow: ellipsis;\n",
       "  padding-right: 10px;\n",
       "}\n",
       "\n",
       ".xr-var-name:hover,\n",
       ".xr-var-dims:hover,\n",
       ".xr-var-dtype:hover,\n",
       ".xr-attrs dt:hover {\n",
       "  overflow: visible;\n",
       "  width: auto;\n",
       "  z-index: 1;\n",
       "}\n",
       "\n",
       ".xr-var-attrs,\n",
       ".xr-var-data,\n",
       ".xr-index-data {\n",
       "  display: none;\n",
       "  background-color: var(--xr-background-color) !important;\n",
       "  padding-bottom: 5px !important;\n",
       "}\n",
       "\n",
       ".xr-var-attrs-in:checked ~ .xr-var-attrs,\n",
       ".xr-var-data-in:checked ~ .xr-var-data,\n",
       ".xr-index-data-in:checked ~ .xr-index-data {\n",
       "  display: block;\n",
       "}\n",
       "\n",
       ".xr-var-data > table {\n",
       "  float: right;\n",
       "}\n",
       "\n",
       ".xr-var-name span,\n",
       ".xr-var-data,\n",
       ".xr-index-name div,\n",
       ".xr-index-data,\n",
       ".xr-attrs {\n",
       "  padding-left: 25px !important;\n",
       "}\n",
       "\n",
       ".xr-attrs,\n",
       ".xr-var-attrs,\n",
       ".xr-var-data,\n",
       ".xr-index-data {\n",
       "  grid-column: 1 / -1;\n",
       "}\n",
       "\n",
       "dl.xr-attrs {\n",
       "  padding: 0;\n",
       "  margin: 0;\n",
       "  display: grid;\n",
       "  grid-template-columns: 125px auto;\n",
       "}\n",
       "\n",
       ".xr-attrs dt,\n",
       ".xr-attrs dd {\n",
       "  padding: 0;\n",
       "  margin: 0;\n",
       "  float: left;\n",
       "  padding-right: 10px;\n",
       "  width: auto;\n",
       "}\n",
       "\n",
       ".xr-attrs dt {\n",
       "  font-weight: normal;\n",
       "  grid-column: 1;\n",
       "}\n",
       "\n",
       ".xr-attrs dt:hover span {\n",
       "  display: inline-block;\n",
       "  background: var(--xr-background-color);\n",
       "  padding-right: 10px;\n",
       "}\n",
       "\n",
       ".xr-attrs dd {\n",
       "  grid-column: 2;\n",
       "  white-space: pre-wrap;\n",
       "  word-break: break-all;\n",
       "}\n",
       "\n",
       ".xr-icon-database,\n",
       ".xr-icon-file-text2,\n",
       ".xr-no-icon {\n",
       "  display: inline-block;\n",
       "  vertical-align: middle;\n",
       "  width: 1em;\n",
       "  height: 1.5em !important;\n",
       "  stroke-width: 0;\n",
       "  stroke: currentColor;\n",
       "  fill: currentColor;\n",
       "}\n",
       "</style><pre class='xr-text-repr-fallback'>&lt;xarray.Dataset&gt; Size: 45TB\n",
       "Dimensions:              (time: 10009, latitude: 4320, longitude: 8640)\n",
       "Coordinates:\n",
       "  * latitude             (latitude) float32 17kB -89.98 -89.94 ... 89.94 89.98\n",
       "  * longitude            (longitude) float32 35kB -180.0 -179.9 ... 179.9 180.0\n",
       "  * time                 (time) datetime64[ns] 80kB 1997-09-04 ... 2025-01-28\n",
       "Data variables: (12/21)\n",
       "    CHL                  (time, latitude, longitude) float32 1TB ...\n",
       "    CHL_uncertainty      (time, latitude, longitude) float64 3TB ...\n",
       "    DIATO                (time, latitude, longitude) float32 1TB ...\n",
       "    DIATO_uncertainty    (time, latitude, longitude) float64 3TB ...\n",
       "    DINO                 (time, latitude, longitude) float32 1TB ...\n",
       "    DINO_uncertainty     (time, latitude, longitude) float64 3TB ...\n",
       "    ...                   ...\n",
       "    PICO_uncertainty     (time, latitude, longitude) float64 3TB ...\n",
       "    PROCHLO              (time, latitude, longitude) float32 1TB ...\n",
       "    PROCHLO_uncertainty  (time, latitude, longitude) float64 3TB ...\n",
       "    PROKAR               (time, latitude, longitude) float32 1TB ...\n",
       "    PROKAR_uncertainty   (time, latitude, longitude) float64 3TB ...\n",
       "    flags                (time, latitude, longitude) int8 374GB ...\n",
       "Attributes: (12/91)\n",
       "    Conventions:                     CF-1.8, ACDD-1.3\n",
       "    DPM_reference:                   GC-UD-ACRI-PUG\n",
       "    IODD_reference:                  GC-UD-ACRI-PUG\n",
       "    acknowledgement:                 The Licensees will ensure that original ...\n",
       "    citation:                        The Licensees will ensure that original ...\n",
       "    cmems_product_id:                OCEANCOLOUR_GLO_BGC_L3_MY_009_103\n",
       "    ...                              ...\n",
       "    time_coverage_end:               2024-10-02T03:39:59Z\n",
       "    time_coverage_resolution:        P1D\n",
       "    time_coverage_start:             2024-09-30T19:51:46Z\n",
       "    title:                           cmems_obs-oc_glo_bgc-plankton_my_l3-mult...\n",
       "    westernmost_longitude:           -180.0\n",
       "    westernmost_valid_longitude:     -180.0</pre><div class='xr-wrap' style='display:none'><div class='xr-header'><div class='xr-obj-type'>xarray.Dataset</div></div><ul class='xr-sections'><li class='xr-section-item'><input id='section-2be6715e-bf90-4a80-a938-be25e503ab8f' class='xr-section-summary-in' type='checkbox' disabled ><label for='section-2be6715e-bf90-4a80-a938-be25e503ab8f' class='xr-section-summary'  title='Expand/collapse section'>Dimensions:</label><div class='xr-section-inline-details'><ul class='xr-dim-list'><li><span class='xr-has-index'>time</span>: 10009</li><li><span class='xr-has-index'>latitude</span>: 4320</li><li><span class='xr-has-index'>longitude</span>: 8640</li></ul></div><div class='xr-section-details'></div></li><li class='xr-section-item'><input id='section-ba6fad20-8e4c-4037-b5ee-e3840be888a6' class='xr-section-summary-in' type='checkbox'  checked><label for='section-ba6fad20-8e4c-4037-b5ee-e3840be888a6' class='xr-section-summary' >Coordinates: <span>(3)</span></label><div class='xr-section-inline-details'></div><div class='xr-section-details'><ul class='xr-var-list'><li class='xr-var-item'><div class='xr-var-name'><span class='xr-has-index'>latitude</span></div><div class='xr-var-dims'>(latitude)</div><div class='xr-var-dtype'>float32</div><div class='xr-var-preview xr-preview'>-89.98 -89.94 -89.9 ... 89.94 89.98</div><input id='attrs-077c0fa3-d0de-4b91-a700-ddd60f1e1f7e' class='xr-var-attrs-in' type='checkbox' ><label for='attrs-077c0fa3-d0de-4b91-a700-ddd60f1e1f7e' title='Show/Hide attributes'><svg class='icon xr-icon-file-text2'><use xlink:href='#icon-file-text2'></use></svg></label><input id='data-3a27e8b3-585e-4f45-a144-0e69a5b2015f' class='xr-var-data-in' type='checkbox'><label for='data-3a27e8b3-585e-4f45-a144-0e69a5b2015f' title='Show/Hide data repr'><svg class='icon xr-icon-database'><use xlink:href='#icon-database'></use></svg></label><div class='xr-var-attrs'><dl class='xr-attrs'><dt><span>axis :</span></dt><dd>Y</dd><dt><span>coverage_content_type :</span></dt><dd>coordinate</dd><dt><span>long_name :</span></dt><dd>latitude</dd><dt><span>standard_name :</span></dt><dd>latitude</dd><dt><span>units :</span></dt><dd>degrees_north</dd><dt><span>valid_max :</span></dt><dd>90.0</dd><dt><span>valid_min :</span></dt><dd>-90.0</dd></dl></div><div class='xr-var-data'><pre>array([-89.97917 , -89.93751 , -89.895836, ...,  89.895836,  89.9375  ,\n",
       "        89.979164], dtype=float32)</pre></div></li><li class='xr-var-item'><div class='xr-var-name'><span class='xr-has-index'>longitude</span></div><div class='xr-var-dims'>(longitude)</div><div class='xr-var-dtype'>float32</div><div class='xr-var-preview xr-preview'>-180.0 -179.9 ... 179.9 180.0</div><input id='attrs-faba2639-442d-4d0d-91da-a93647d7ccc0' class='xr-var-attrs-in' type='checkbox' ><label for='attrs-faba2639-442d-4d0d-91da-a93647d7ccc0' title='Show/Hide attributes'><svg class='icon xr-icon-file-text2'><use xlink:href='#icon-file-text2'></use></svg></label><input id='data-9ed5dbfd-dc47-4256-8157-8de24b66fa7c' class='xr-var-data-in' type='checkbox'><label for='data-9ed5dbfd-dc47-4256-8157-8de24b66fa7c' title='Show/Hide data repr'><svg class='icon xr-icon-database'><use xlink:href='#icon-database'></use></svg></label><div class='xr-var-attrs'><dl class='xr-attrs'><dt><span>axis :</span></dt><dd>X</dd><dt><span>coverage_content_type :</span></dt><dd>coordinate</dd><dt><span>long_name :</span></dt><dd>longitude</dd><dt><span>standard_name :</span></dt><dd>longitude</dd><dt><span>units :</span></dt><dd>degrees_east</dd><dt><span>valid_max :</span></dt><dd>180.0</dd><dt><span>valid_min :</span></dt><dd>-180.0</dd></dl></div><div class='xr-var-data'><pre>array([-179.97917, -179.9375 , -179.89583, ...,  179.89584,  179.93752,\n",
       "        179.97917], dtype=float32)</pre></div></li><li class='xr-var-item'><div class='xr-var-name'><span class='xr-has-index'>time</span></div><div class='xr-var-dims'>(time)</div><div class='xr-var-dtype'>datetime64[ns]</div><div class='xr-var-preview xr-preview'>1997-09-04 ... 2025-01-28</div><input id='attrs-68e81cec-88b1-47e5-8d98-98ec21e9756e' class='xr-var-attrs-in' type='checkbox' disabled><label for='attrs-68e81cec-88b1-47e5-8d98-98ec21e9756e' title='Show/Hide attributes'><svg class='icon xr-icon-file-text2'><use xlink:href='#icon-file-text2'></use></svg></label><input id='data-ddaf05d3-68a1-4ae9-a306-e22a73afa06b' class='xr-var-data-in' type='checkbox'><label for='data-ddaf05d3-68a1-4ae9-a306-e22a73afa06b' title='Show/Hide data repr'><svg class='icon xr-icon-database'><use xlink:href='#icon-database'></use></svg></label><div class='xr-var-attrs'><dl class='xr-attrs'></dl></div><div class='xr-var-data'><pre>array([&#x27;1997-09-04T00:00:00.000000000&#x27;, &#x27;1997-09-05T00:00:00.000000000&#x27;,\n",
       "       &#x27;1997-09-06T00:00:00.000000000&#x27;, ..., &#x27;2025-01-26T00:00:00.000000000&#x27;,\n",
       "       &#x27;2025-01-27T00:00:00.000000000&#x27;, &#x27;2025-01-28T00:00:00.000000000&#x27;],\n",
       "      dtype=&#x27;datetime64[ns]&#x27;)</pre></div></li></ul></div></li><li class='xr-section-item'><input id='section-a5494445-41a3-419d-8816-9dc5c32a84be' class='xr-section-summary-in' type='checkbox'  ><label for='section-a5494445-41a3-419d-8816-9dc5c32a84be' class='xr-section-summary' >Data variables: <span>(21)</span></label><div class='xr-section-inline-details'></div><div class='xr-section-details'><ul class='xr-var-list'><li class='xr-var-item'><div class='xr-var-name'><span>CHL</span></div><div class='xr-var-dims'>(time, latitude, longitude)</div><div class='xr-var-dtype'>float32</div><div class='xr-var-preview xr-preview'>...</div><input id='attrs-1f755686-aaef-4fdf-97b8-ca6c560911e5' class='xr-var-attrs-in' type='checkbox' ><label for='attrs-1f755686-aaef-4fdf-97b8-ca6c560911e5' title='Show/Hide attributes'><svg class='icon xr-icon-file-text2'><use xlink:href='#icon-file-text2'></use></svg></label><input id='data-924eb730-0602-424d-bcf0-36d747f4dec4' class='xr-var-data-in' type='checkbox'><label for='data-924eb730-0602-424d-bcf0-36d747f4dec4' title='Show/Hide data repr'><svg class='icon xr-icon-database'><use xlink:href='#icon-database'></use></svg></label><div class='xr-var-attrs'><dl class='xr-attrs'><dt><span>ancillary_variables :</span></dt><dd>flags CHL_uncertainty</dd><dt><span>coverage_content_type :</span></dt><dd>modelResult</dd><dt><span>input_files_reprocessings :</span></dt><dd>Processors versions: MODIS R2022.0.1NRT/VIIRSN R2022.0.1NRT/OLCIA 07.05/VIIRSJ1 R2022.0NRT/OLCIB 07.05</dd><dt><span>long_name :</span></dt><dd>Chlorophyll-a concentration - Mean of the binned pixels</dd><dt><span>standard_name :</span></dt><dd>mass_concentration_of_chlorophyll_a_in_sea_water</dd><dt><span>type :</span></dt><dd>surface</dd><dt><span>units :</span></dt><dd>milligram m-3</dd><dt><span>valid_max :</span></dt><dd>1000.0</dd><dt><span>valid_min :</span></dt><dd>0.0</dd></dl></div><div class='xr-var-data'><pre>[373583923200 values with dtype=float32]</pre></div></li><li class='xr-var-item'><div class='xr-var-name'><span>CHL_uncertainty</span></div><div class='xr-var-dims'>(time, latitude, longitude)</div><div class='xr-var-dtype'>float64</div><div class='xr-var-preview xr-preview'>...</div><input id='attrs-75eb9f83-bc30-4a4d-953e-8bedf204c405' class='xr-var-attrs-in' type='checkbox' ><label for='attrs-75eb9f83-bc30-4a4d-953e-8bedf204c405' title='Show/Hide attributes'><svg class='icon xr-icon-file-text2'><use xlink:href='#icon-file-text2'></use></svg></label><input id='data-1c15f403-2200-4f0c-a134-d292d4590580' class='xr-var-data-in' type='checkbox'><label for='data-1c15f403-2200-4f0c-a134-d292d4590580' title='Show/Hide data repr'><svg class='icon xr-icon-database'><use xlink:href='#icon-database'></use></svg></label><div class='xr-var-attrs'><dl class='xr-attrs'><dt><span>coverage_content_type :</span></dt><dd>qualityInformation</dd><dt><span>long_name :</span></dt><dd>Chlorophyll-a concentration - Uncertainty estimation</dd><dt><span>units :</span></dt><dd>%</dd><dt><span>valid_max :</span></dt><dd>32767</dd><dt><span>valid_min :</span></dt><dd>0</dd></dl></div><div class='xr-var-data'><pre>[373583923200 values with dtype=float64]</pre></div></li><li class='xr-var-item'><div class='xr-var-name'><span>DIATO</span></div><div class='xr-var-dims'>(time, latitude, longitude)</div><div class='xr-var-dtype'>float32</div><div class='xr-var-preview xr-preview'>...</div><input id='attrs-21a70a79-22de-41de-a16f-12fe167cb6cc' class='xr-var-attrs-in' type='checkbox' ><label for='attrs-21a70a79-22de-41de-a16f-12fe167cb6cc' title='Show/Hide attributes'><svg class='icon xr-icon-file-text2'><use xlink:href='#icon-file-text2'></use></svg></label><input id='data-d47c72ff-8c96-4074-a9b1-3d8513fae0e5' class='xr-var-data-in' type='checkbox'><label for='data-d47c72ff-8c96-4074-a9b1-3d8513fae0e5' title='Show/Hide data repr'><svg class='icon xr-icon-database'><use xlink:href='#icon-database'></use></svg></label><div class='xr-var-attrs'><dl class='xr-attrs'><dt><span>ancillary_variables :</span></dt><dd>flags DIATO_uncertainty</dd><dt><span>coverage_content_type :</span></dt><dd>modelResult</dd><dt><span>input_files_reprocessings :</span></dt><dd>Processors versions: MODIS R2022.0.1NRT/VIIRSN R2022.0.1NRT/OLCIA 07.05/VIIRSJ1 R2022.0NRT/OLCIB 07.05</dd><dt><span>long_name :</span></dt><dd>Diatoms Chlorophyll a concentration - Mean of the binned pixels</dd><dt><span>standard_name :</span></dt><dd>mass_concentration_of_diatoms_expressed_as_chlorophyll_in_sea_water</dd><dt><span>type :</span></dt><dd>surface</dd><dt><span>units :</span></dt><dd>milligram m^-3</dd><dt><span>valid_max :</span></dt><dd>50.0</dd><dt><span>valid_min :</span></dt><dd>0.0010000000474974513</dd></dl></div><div class='xr-var-data'><pre>[373583923200 values with dtype=float32]</pre></div></li><li class='xr-var-item'><div class='xr-var-name'><span>DIATO_uncertainty</span></div><div class='xr-var-dims'>(time, latitude, longitude)</div><div class='xr-var-dtype'>float64</div><div class='xr-var-preview xr-preview'>...</div><input id='attrs-7222f0e0-33ab-41ff-8409-e883a5bed5bc' class='xr-var-attrs-in' type='checkbox' ><label for='attrs-7222f0e0-33ab-41ff-8409-e883a5bed5bc' title='Show/Hide attributes'><svg class='icon xr-icon-file-text2'><use xlink:href='#icon-file-text2'></use></svg></label><input id='data-d3ed5d30-7c31-4587-bd27-02ba6625939e' class='xr-var-data-in' type='checkbox'><label for='data-d3ed5d30-7c31-4587-bd27-02ba6625939e' title='Show/Hide data repr'><svg class='icon xr-icon-database'><use xlink:href='#icon-database'></use></svg></label><div class='xr-var-attrs'><dl class='xr-attrs'><dt><span>coverage_content_type :</span></dt><dd>qualityInformation</dd><dt><span>long_name :</span></dt><dd>Diatoms Chlorophyll a - Uncertainty estimation</dd><dt><span>units :</span></dt><dd>%</dd><dt><span>valid_max :</span></dt><dd>32767</dd><dt><span>valid_min :</span></dt><dd>0</dd></dl></div><div class='xr-var-data'><pre>[373583923200 values with dtype=float64]</pre></div></li><li class='xr-var-item'><div class='xr-var-name'><span>DINO</span></div><div class='xr-var-dims'>(time, latitude, longitude)</div><div class='xr-var-dtype'>float32</div><div class='xr-var-preview xr-preview'>...</div><input id='attrs-849ce97d-e107-4adf-ac8a-265e4acabce2' class='xr-var-attrs-in' type='checkbox' ><label for='attrs-849ce97d-e107-4adf-ac8a-265e4acabce2' title='Show/Hide attributes'><svg class='icon xr-icon-file-text2'><use xlink:href='#icon-file-text2'></use></svg></label><input id='data-81e47507-72dd-4d2d-847a-e8fd316ac45f' class='xr-var-data-in' type='checkbox'><label for='data-81e47507-72dd-4d2d-847a-e8fd316ac45f' title='Show/Hide data repr'><svg class='icon xr-icon-database'><use xlink:href='#icon-database'></use></svg></label><div class='xr-var-attrs'><dl class='xr-attrs'><dt><span>ancillary_variables :</span></dt><dd>flags DINO_uncertainty</dd><dt><span>coverage_content_type :</span></dt><dd>modelResult</dd><dt><span>input_files_reprocessings :</span></dt><dd>Processors versions: MODIS R2022.0.1NRT/VIIRSN R2022.0.1NRT/OLCIA 07.05/VIIRSJ1 R2022.0NRT/OLCIB 07.05</dd><dt><span>long_name :</span></dt><dd>Dinophytes Chlorophyll a concentration - Mean of the binned pixels</dd><dt><span>standard_name :</span></dt><dd>mass_concentration_of_dinophytes_expressed_as_chlorophyll_in_sea_water</dd><dt><span>type :</span></dt><dd>surface</dd><dt><span>units :</span></dt><dd>milligram m^-3</dd><dt><span>valid_max :</span></dt><dd>50.0</dd><dt><span>valid_min :</span></dt><dd>0.0010000000474974513</dd></dl></div><div class='xr-var-data'><pre>[373583923200 values with dtype=float32]</pre></div></li><li class='xr-var-item'><div class='xr-var-name'><span>DINO_uncertainty</span></div><div class='xr-var-dims'>(time, latitude, longitude)</div><div class='xr-var-dtype'>float64</div><div class='xr-var-preview xr-preview'>...</div><input id='attrs-66fcfb00-f8e7-433f-bd24-93ad9a364497' class='xr-var-attrs-in' type='checkbox' ><label for='attrs-66fcfb00-f8e7-433f-bd24-93ad9a364497' title='Show/Hide attributes'><svg class='icon xr-icon-file-text2'><use xlink:href='#icon-file-text2'></use></svg></label><input id='data-49bd525e-51f8-47a1-b06f-65f25b0da948' class='xr-var-data-in' type='checkbox'><label for='data-49bd525e-51f8-47a1-b06f-65f25b0da948' title='Show/Hide data repr'><svg class='icon xr-icon-database'><use xlink:href='#icon-database'></use></svg></label><div class='xr-var-attrs'><dl class='xr-attrs'><dt><span>coverage_content_type :</span></dt><dd>qualityInformation</dd><dt><span>long_name :</span></dt><dd>Dinophytes Chlorophyll a - Uncertainty estimation</dd><dt><span>units :</span></dt><dd>%</dd><dt><span>valid_max :</span></dt><dd>32767</dd><dt><span>valid_min :</span></dt><dd>0</dd></dl></div><div class='xr-var-data'><pre>[373583923200 values with dtype=float64]</pre></div></li><li class='xr-var-item'><div class='xr-var-name'><span>GREEN</span></div><div class='xr-var-dims'>(time, latitude, longitude)</div><div class='xr-var-dtype'>float32</div><div class='xr-var-preview xr-preview'>...</div><input id='attrs-7aa41220-1def-45c8-bb47-67213472ff74' class='xr-var-attrs-in' type='checkbox' ><label for='attrs-7aa41220-1def-45c8-bb47-67213472ff74' title='Show/Hide attributes'><svg class='icon xr-icon-file-text2'><use xlink:href='#icon-file-text2'></use></svg></label><input id='data-8e8d8f3d-10b3-476a-8998-dd9f9b89a8d3' class='xr-var-data-in' type='checkbox'><label for='data-8e8d8f3d-10b3-476a-8998-dd9f9b89a8d3' title='Show/Hide data repr'><svg class='icon xr-icon-database'><use xlink:href='#icon-database'></use></svg></label><div class='xr-var-attrs'><dl class='xr-attrs'><dt><span>ancillary_variables :</span></dt><dd>flags GREEN_uncertainty</dd><dt><span>coverage_content_type :</span></dt><dd>modelResult</dd><dt><span>input_files_reprocessings :</span></dt><dd>Processors versions: MODIS R2022.0.1NRT/VIIRSN R2022.0.1NRT/OLCIA 07.05/VIIRSJ1 R2022.0NRT/OLCIB 07.05</dd><dt><span>long_name :</span></dt><dd>Green Algae Chlorophyll a concentration - Mean of the binned pixels</dd><dt><span>standard_name :</span></dt><dd>mass_concentration_of_greenalgae_expressed_as_chlorophyll_in_sea_water</dd><dt><span>type :</span></dt><dd>surface</dd><dt><span>units :</span></dt><dd>milligram m^-3</dd><dt><span>valid_max :</span></dt><dd>10.0</dd><dt><span>valid_min :</span></dt><dd>0.0010000000474974513</dd></dl></div><div class='xr-var-data'><pre>[373583923200 values with dtype=float32]</pre></div></li><li class='xr-var-item'><div class='xr-var-name'><span>GREEN_uncertainty</span></div><div class='xr-var-dims'>(time, latitude, longitude)</div><div class='xr-var-dtype'>float64</div><div class='xr-var-preview xr-preview'>...</div><input id='attrs-1e794f16-bbf3-4c26-acb9-49788eeef7cf' class='xr-var-attrs-in' type='checkbox' ><label for='attrs-1e794f16-bbf3-4c26-acb9-49788eeef7cf' title='Show/Hide attributes'><svg class='icon xr-icon-file-text2'><use xlink:href='#icon-file-text2'></use></svg></label><input id='data-87ef5255-c3d4-4466-8b6e-1bb6eb70b76f' class='xr-var-data-in' type='checkbox'><label for='data-87ef5255-c3d4-4466-8b6e-1bb6eb70b76f' title='Show/Hide data repr'><svg class='icon xr-icon-database'><use xlink:href='#icon-database'></use></svg></label><div class='xr-var-attrs'><dl class='xr-attrs'><dt><span>coverage_content_type :</span></dt><dd>qualityInformation</dd><dt><span>long_name :</span></dt><dd>Green Algae Chlorophyll a - Uncertainty estimation</dd><dt><span>units :</span></dt><dd>%</dd><dt><span>valid_max :</span></dt><dd>32767</dd><dt><span>valid_min :</span></dt><dd>0</dd></dl></div><div class='xr-var-data'><pre>[373583923200 values with dtype=float64]</pre></div></li><li class='xr-var-item'><div class='xr-var-name'><span>HAPTO</span></div><div class='xr-var-dims'>(time, latitude, longitude)</div><div class='xr-var-dtype'>float32</div><div class='xr-var-preview xr-preview'>...</div><input id='attrs-48371d29-eafb-41db-bbe6-6c3114b9ee03' class='xr-var-attrs-in' type='checkbox' ><label for='attrs-48371d29-eafb-41db-bbe6-6c3114b9ee03' title='Show/Hide attributes'><svg class='icon xr-icon-file-text2'><use xlink:href='#icon-file-text2'></use></svg></label><input id='data-13f4272a-9867-4926-ab2e-794725f3a26b' class='xr-var-data-in' type='checkbox'><label for='data-13f4272a-9867-4926-ab2e-794725f3a26b' title='Show/Hide data repr'><svg class='icon xr-icon-database'><use xlink:href='#icon-database'></use></svg></label><div class='xr-var-attrs'><dl class='xr-attrs'><dt><span>ancillary_variables :</span></dt><dd>flags HAPTO_uncertainty</dd><dt><span>coverage_content_type :</span></dt><dd>modelResult</dd><dt><span>input_files_reprocessings :</span></dt><dd>Processors versions: MODIS R2022.0.1NRT/VIIRSN R2022.0.1NRT/OLCIA 07.05/VIIRSJ1 R2022.0NRT/OLCIB 07.05</dd><dt><span>long_name :</span></dt><dd>Haptophytes Chlorophyll a concentration - Mean of the binned pixels</dd><dt><span>standard_name :</span></dt><dd>mass_concentration_of_haptophytes_expressed_as_chlorophyll_in_sea_water</dd><dt><span>type :</span></dt><dd>surface</dd><dt><span>units :</span></dt><dd>milligram m^-3</dd><dt><span>valid_max :</span></dt><dd>10.0</dd><dt><span>valid_min :</span></dt><dd>0.0010000000474974513</dd></dl></div><div class='xr-var-data'><pre>[373583923200 values with dtype=float32]</pre></div></li><li class='xr-var-item'><div class='xr-var-name'><span>HAPTO_uncertainty</span></div><div class='xr-var-dims'>(time, latitude, longitude)</div><div class='xr-var-dtype'>float64</div><div class='xr-var-preview xr-preview'>...</div><input id='attrs-a2341a32-cb4d-46bc-98c4-52f4211c9b48' class='xr-var-attrs-in' type='checkbox' ><label for='attrs-a2341a32-cb4d-46bc-98c4-52f4211c9b48' title='Show/Hide attributes'><svg class='icon xr-icon-file-text2'><use xlink:href='#icon-file-text2'></use></svg></label><input id='data-e632529b-8155-4836-95a5-3bd5642543b9' class='xr-var-data-in' type='checkbox'><label for='data-e632529b-8155-4836-95a5-3bd5642543b9' title='Show/Hide data repr'><svg class='icon xr-icon-database'><use xlink:href='#icon-database'></use></svg></label><div class='xr-var-attrs'><dl class='xr-attrs'><dt><span>coverage_content_type :</span></dt><dd>qualityInformation</dd><dt><span>long_name :</span></dt><dd>Haptophytes Chlorophyll a - Uncertainty estimation</dd><dt><span>units :</span></dt><dd>%</dd><dt><span>valid_max :</span></dt><dd>32767</dd><dt><span>valid_min :</span></dt><dd>0</dd></dl></div><div class='xr-var-data'><pre>[373583923200 values with dtype=float64]</pre></div></li><li class='xr-var-item'><div class='xr-var-name'><span>MICRO</span></div><div class='xr-var-dims'>(time, latitude, longitude)</div><div class='xr-var-dtype'>float32</div><div class='xr-var-preview xr-preview'>...</div><input id='attrs-c53cb5fa-81a2-40fd-b736-ff39b6e90e02' class='xr-var-attrs-in' type='checkbox' ><label for='attrs-c53cb5fa-81a2-40fd-b736-ff39b6e90e02' title='Show/Hide attributes'><svg class='icon xr-icon-file-text2'><use xlink:href='#icon-file-text2'></use></svg></label><input id='data-b1133c7e-df1c-4c69-adf2-38a1a0282ec0' class='xr-var-data-in' type='checkbox'><label for='data-b1133c7e-df1c-4c69-adf2-38a1a0282ec0' title='Show/Hide data repr'><svg class='icon xr-icon-database'><use xlink:href='#icon-database'></use></svg></label><div class='xr-var-attrs'><dl class='xr-attrs'><dt><span>ancillary_variables :</span></dt><dd>flags MICRO_uncertainty</dd><dt><span>coverage_content_type :</span></dt><dd>modelResult</dd><dt><span>input_files_reprocessings :</span></dt><dd>Processors versions: MODIS R2022.0.1NRT/VIIRSN R2022.0.1NRT/OLCIA 07.05/VIIRSJ1 R2022.0NRT/OLCIB 07.05</dd><dt><span>long_name :</span></dt><dd>Microphytoplankton Chlorophyll a concentration - Mean of the binned pixels</dd><dt><span>standard_name :</span></dt><dd>mass_concentration_of_microphytoplankton_expressed_as_chlorophyll_in_sea_water</dd><dt><span>type :</span></dt><dd>surface</dd><dt><span>units :</span></dt><dd>milligram m^-3</dd><dt><span>valid_max :</span></dt><dd>50.0</dd><dt><span>valid_min :</span></dt><dd>0.004999999888241291</dd></dl></div><div class='xr-var-data'><pre>[373583923200 values with dtype=float32]</pre></div></li><li class='xr-var-item'><div class='xr-var-name'><span>MICRO_uncertainty</span></div><div class='xr-var-dims'>(time, latitude, longitude)</div><div class='xr-var-dtype'>float64</div><div class='xr-var-preview xr-preview'>...</div><input id='attrs-06c9542b-8946-40c6-b65e-23d9ea34d29a' class='xr-var-attrs-in' type='checkbox' ><label for='attrs-06c9542b-8946-40c6-b65e-23d9ea34d29a' title='Show/Hide attributes'><svg class='icon xr-icon-file-text2'><use xlink:href='#icon-file-text2'></use></svg></label><input id='data-288a63d0-93b0-4755-8c36-71b5fd1aa27b' class='xr-var-data-in' type='checkbox'><label for='data-288a63d0-93b0-4755-8c36-71b5fd1aa27b' title='Show/Hide data repr'><svg class='icon xr-icon-database'><use xlink:href='#icon-database'></use></svg></label><div class='xr-var-attrs'><dl class='xr-attrs'><dt><span>coverage_content_type :</span></dt><dd>qualityInformation</dd><dt><span>long_name :</span></dt><dd>Microphytoplankton Chlorophyll a - Uncertainty estimation</dd><dt><span>units :</span></dt><dd>%</dd><dt><span>valid_max :</span></dt><dd>32767</dd><dt><span>valid_min :</span></dt><dd>0</dd></dl></div><div class='xr-var-data'><pre>[373583923200 values with dtype=float64]</pre></div></li><li class='xr-var-item'><div class='xr-var-name'><span>NANO</span></div><div class='xr-var-dims'>(time, latitude, longitude)</div><div class='xr-var-dtype'>float32</div><div class='xr-var-preview xr-preview'>...</div><input id='attrs-3efb74ad-f5df-43c6-b82a-534b66a82230' class='xr-var-attrs-in' type='checkbox' ><label for='attrs-3efb74ad-f5df-43c6-b82a-534b66a82230' title='Show/Hide attributes'><svg class='icon xr-icon-file-text2'><use xlink:href='#icon-file-text2'></use></svg></label><input id='data-d11b4fbe-5827-445d-af40-936b6847cf6d' class='xr-var-data-in' type='checkbox'><label for='data-d11b4fbe-5827-445d-af40-936b6847cf6d' title='Show/Hide data repr'><svg class='icon xr-icon-database'><use xlink:href='#icon-database'></use></svg></label><div class='xr-var-attrs'><dl class='xr-attrs'><dt><span>ancillary_variables :</span></dt><dd>flags NANO_uncertainty</dd><dt><span>coverage_content_type :</span></dt><dd>modelResult</dd><dt><span>input_files_reprocessings :</span></dt><dd>Processors versions: MODIS R2022.0.1NRT/VIIRSN R2022.0.1NRT/OLCIA 07.05/VIIRSJ1 R2022.0NRT/OLCIB 07.05</dd><dt><span>long_name :</span></dt><dd>Nanophytoplankton Chlorophyll a concentration - Mean of the binned pixels</dd><dt><span>standard_name :</span></dt><dd>mass_concentration_of_nanophytoplankton_expressed_as_chlorophyll_in_sea_water</dd><dt><span>type :</span></dt><dd>surface</dd><dt><span>units :</span></dt><dd>milligram m^-3</dd><dt><span>valid_max :</span></dt><dd>10.0</dd><dt><span>valid_min :</span></dt><dd>0.004999999888241291</dd></dl></div><div class='xr-var-data'><pre>[373583923200 values with dtype=float32]</pre></div></li><li class='xr-var-item'><div class='xr-var-name'><span>NANO_uncertainty</span></div><div class='xr-var-dims'>(time, latitude, longitude)</div><div class='xr-var-dtype'>float64</div><div class='xr-var-preview xr-preview'>...</div><input id='attrs-db1e1ad8-e49a-4afb-96b9-24c1b322a461' class='xr-var-attrs-in' type='checkbox' ><label for='attrs-db1e1ad8-e49a-4afb-96b9-24c1b322a461' title='Show/Hide attributes'><svg class='icon xr-icon-file-text2'><use xlink:href='#icon-file-text2'></use></svg></label><input id='data-73362898-7891-4f0e-af69-9411544124ce' class='xr-var-data-in' type='checkbox'><label for='data-73362898-7891-4f0e-af69-9411544124ce' title='Show/Hide data repr'><svg class='icon xr-icon-database'><use xlink:href='#icon-database'></use></svg></label><div class='xr-var-attrs'><dl class='xr-attrs'><dt><span>coverage_content_type :</span></dt><dd>qualityInformation</dd><dt><span>long_name :</span></dt><dd>Nanophytoplankton Chlorophyll a - Uncertainty estimation</dd><dt><span>units :</span></dt><dd>%</dd><dt><span>valid_max :</span></dt><dd>32767</dd><dt><span>valid_min :</span></dt><dd>0</dd></dl></div><div class='xr-var-data'><pre>[373583923200 values with dtype=float64]</pre></div></li><li class='xr-var-item'><div class='xr-var-name'><span>PICO</span></div><div class='xr-var-dims'>(time, latitude, longitude)</div><div class='xr-var-dtype'>float32</div><div class='xr-var-preview xr-preview'>...</div><input id='attrs-137cb84f-4340-494b-94a0-432d23bcf698' class='xr-var-attrs-in' type='checkbox' ><label for='attrs-137cb84f-4340-494b-94a0-432d23bcf698' title='Show/Hide attributes'><svg class='icon xr-icon-file-text2'><use xlink:href='#icon-file-text2'></use></svg></label><input id='data-ef2d43e5-dea4-450c-bc20-84aa308848c0' class='xr-var-data-in' type='checkbox'><label for='data-ef2d43e5-dea4-450c-bc20-84aa308848c0' title='Show/Hide data repr'><svg class='icon xr-icon-database'><use xlink:href='#icon-database'></use></svg></label><div class='xr-var-attrs'><dl class='xr-attrs'><dt><span>ancillary_variables :</span></dt><dd>flags PICO_uncertainty</dd><dt><span>coverage_content_type :</span></dt><dd>modelResult</dd><dt><span>input_files_reprocessings :</span></dt><dd>Processors versions: MODIS R2022.0.1NRT/VIIRSN R2022.0.1NRT/OLCIA 07.05/VIIRSJ1 R2022.0NRT/OLCIB 07.05</dd><dt><span>long_name :</span></dt><dd>Picophytoplankton Chlorophyll a concentration - Mean of the binned pixels</dd><dt><span>standard_name :</span></dt><dd>mass_concentration_of_picophytoplankton_expressed_as_chlorophyll_in_sea_water</dd><dt><span>type :</span></dt><dd>surface</dd><dt><span>units :</span></dt><dd>milligram m^-3</dd><dt><span>valid_max :</span></dt><dd>10.0</dd><dt><span>valid_min :</span></dt><dd>0.004999999888241291</dd></dl></div><div class='xr-var-data'><pre>[373583923200 values with dtype=float32]</pre></div></li><li class='xr-var-item'><div class='xr-var-name'><span>PICO_uncertainty</span></div><div class='xr-var-dims'>(time, latitude, longitude)</div><div class='xr-var-dtype'>float64</div><div class='xr-var-preview xr-preview'>...</div><input id='attrs-2a3973dc-dce4-4c39-b921-a75bf20b3c22' class='xr-var-attrs-in' type='checkbox' ><label for='attrs-2a3973dc-dce4-4c39-b921-a75bf20b3c22' title='Show/Hide attributes'><svg class='icon xr-icon-file-text2'><use xlink:href='#icon-file-text2'></use></svg></label><input id='data-e64ff41a-7650-4faf-b29e-361cc632abb1' class='xr-var-data-in' type='checkbox'><label for='data-e64ff41a-7650-4faf-b29e-361cc632abb1' title='Show/Hide data repr'><svg class='icon xr-icon-database'><use xlink:href='#icon-database'></use></svg></label><div class='xr-var-attrs'><dl class='xr-attrs'><dt><span>coverage_content_type :</span></dt><dd>qualityInformation</dd><dt><span>long_name :</span></dt><dd>Picophytoplankton Chlorophyll a - Uncertainty estimation</dd><dt><span>units :</span></dt><dd>%</dd><dt><span>valid_max :</span></dt><dd>32767</dd><dt><span>valid_min :</span></dt><dd>0</dd></dl></div><div class='xr-var-data'><pre>[373583923200 values with dtype=float64]</pre></div></li><li class='xr-var-item'><div class='xr-var-name'><span>PROCHLO</span></div><div class='xr-var-dims'>(time, latitude, longitude)</div><div class='xr-var-dtype'>float32</div><div class='xr-var-preview xr-preview'>...</div><input id='attrs-5f20a8fe-989d-424c-9c5f-a09e98cc3494' class='xr-var-attrs-in' type='checkbox' ><label for='attrs-5f20a8fe-989d-424c-9c5f-a09e98cc3494' title='Show/Hide attributes'><svg class='icon xr-icon-file-text2'><use xlink:href='#icon-file-text2'></use></svg></label><input id='data-2e04c59e-cf75-40d7-9320-d50c01330272' class='xr-var-data-in' type='checkbox'><label for='data-2e04c59e-cf75-40d7-9320-d50c01330272' title='Show/Hide data repr'><svg class='icon xr-icon-database'><use xlink:href='#icon-database'></use></svg></label><div class='xr-var-attrs'><dl class='xr-attrs'><dt><span>ancillary_variables :</span></dt><dd>flags PROCHLO_uncertainty</dd><dt><span>coverage_content_type :</span></dt><dd>modelResult</dd><dt><span>input_files_reprocessings :</span></dt><dd>Processors versions: MODIS R2022.0.1NRT/VIIRSN R2022.0.1NRT/OLCIA 07.05/VIIRSJ1 R2022.0NRT/OLCIB 07.05</dd><dt><span>long_name :</span></dt><dd>Prochlorophytes Chlorophyll a concentration - Mean of the binned pixels</dd><dt><span>standard_name :</span></dt><dd>mass_concentration_of_prochlorophytes_expressed_as_chlorophyll_in_sea_water</dd><dt><span>type :</span></dt><dd>surface</dd><dt><span>units :</span></dt><dd>milligram m^-3</dd><dt><span>valid_max :</span></dt><dd>1.0</dd><dt><span>valid_min :</span></dt><dd>0.0010000000474974513</dd></dl></div><div class='xr-var-data'><pre>[373583923200 values with dtype=float32]</pre></div></li><li class='xr-var-item'><div class='xr-var-name'><span>PROCHLO_uncertainty</span></div><div class='xr-var-dims'>(time, latitude, longitude)</div><div class='xr-var-dtype'>float64</div><div class='xr-var-preview xr-preview'>...</div><input id='attrs-905f7889-fff6-4377-903d-50e6ef2d13e8' class='xr-var-attrs-in' type='checkbox' ><label for='attrs-905f7889-fff6-4377-903d-50e6ef2d13e8' title='Show/Hide attributes'><svg class='icon xr-icon-file-text2'><use xlink:href='#icon-file-text2'></use></svg></label><input id='data-1403b236-afef-4275-8b88-7e336bd95f18' class='xr-var-data-in' type='checkbox'><label for='data-1403b236-afef-4275-8b88-7e336bd95f18' title='Show/Hide data repr'><svg class='icon xr-icon-database'><use xlink:href='#icon-database'></use></svg></label><div class='xr-var-attrs'><dl class='xr-attrs'><dt><span>coverage_content_type :</span></dt><dd>qualityInformation</dd><dt><span>long_name :</span></dt><dd>Prochlorococcus Chlorophyll a - Uncertainty estimation</dd><dt><span>units :</span></dt><dd>%</dd><dt><span>valid_max :</span></dt><dd>32767</dd><dt><span>valid_min :</span></dt><dd>0</dd></dl></div><div class='xr-var-data'><pre>[373583923200 values with dtype=float64]</pre></div></li><li class='xr-var-item'><div class='xr-var-name'><span>PROKAR</span></div><div class='xr-var-dims'>(time, latitude, longitude)</div><div class='xr-var-dtype'>float32</div><div class='xr-var-preview xr-preview'>...</div><input id='attrs-81cdfc56-c461-49dd-8082-76059ebd5718' class='xr-var-attrs-in' type='checkbox' ><label for='attrs-81cdfc56-c461-49dd-8082-76059ebd5718' title='Show/Hide attributes'><svg class='icon xr-icon-file-text2'><use xlink:href='#icon-file-text2'></use></svg></label><input id='data-b9a7e7fe-4d10-4e6f-b14b-8b20dbccef5b' class='xr-var-data-in' type='checkbox'><label for='data-b9a7e7fe-4d10-4e6f-b14b-8b20dbccef5b' title='Show/Hide data repr'><svg class='icon xr-icon-database'><use xlink:href='#icon-database'></use></svg></label><div class='xr-var-attrs'><dl class='xr-attrs'><dt><span>ancillary_variables :</span></dt><dd>flags PROKAR_uncertainty</dd><dt><span>coverage_content_type :</span></dt><dd>modelResult</dd><dt><span>input_files_reprocessings :</span></dt><dd>Processors versions: MODIS R2022.0.1NRT/VIIRSN R2022.0.1NRT/OLCIA 07.05/VIIRSJ1 R2022.0NRT/OLCIB 07.05</dd><dt><span>long_name :</span></dt><dd>Prokaryotes Chlorophyll a concentration - Mean of the binned pixels</dd><dt><span>standard_name :</span></dt><dd>mass_concentration_of_prokaryotes_expressed_as_chlorophyll_in_sea_water</dd><dt><span>type :</span></dt><dd>surface</dd><dt><span>units :</span></dt><dd>milligram m^-3</dd><dt><span>valid_max :</span></dt><dd>10.0</dd><dt><span>valid_min :</span></dt><dd>0.0010000000474974513</dd></dl></div><div class='xr-var-data'><pre>[373583923200 values with dtype=float32]</pre></div></li><li class='xr-var-item'><div class='xr-var-name'><span>PROKAR_uncertainty</span></div><div class='xr-var-dims'>(time, latitude, longitude)</div><div class='xr-var-dtype'>float64</div><div class='xr-var-preview xr-preview'>...</div><input id='attrs-f89da469-2be3-4545-bb41-301ba229b76f' class='xr-var-attrs-in' type='checkbox' ><label for='attrs-f89da469-2be3-4545-bb41-301ba229b76f' title='Show/Hide attributes'><svg class='icon xr-icon-file-text2'><use xlink:href='#icon-file-text2'></use></svg></label><input id='data-a13243cd-9e41-46d5-8b05-26863645c05f' class='xr-var-data-in' type='checkbox'><label for='data-a13243cd-9e41-46d5-8b05-26863645c05f' title='Show/Hide data repr'><svg class='icon xr-icon-database'><use xlink:href='#icon-database'></use></svg></label><div class='xr-var-attrs'><dl class='xr-attrs'><dt><span>coverage_content_type :</span></dt><dd>qualityInformation</dd><dt><span>long_name :</span></dt><dd>Prokaryotes Chlorophyll a - Uncertainty estimation</dd><dt><span>units :</span></dt><dd>%</dd><dt><span>valid_max :</span></dt><dd>32767</dd><dt><span>valid_min :</span></dt><dd>0</dd></dl></div><div class='xr-var-data'><pre>[373583923200 values with dtype=float64]</pre></div></li><li class='xr-var-item'><div class='xr-var-name'><span>flags</span></div><div class='xr-var-dims'>(time, latitude, longitude)</div><div class='xr-var-dtype'>int8</div><div class='xr-var-preview xr-preview'>...</div><input id='attrs-72712686-b24f-4ff8-a189-b12d9bdc5e2f' class='xr-var-attrs-in' type='checkbox' ><label for='attrs-72712686-b24f-4ff8-a189-b12d9bdc5e2f' title='Show/Hide attributes'><svg class='icon xr-icon-file-text2'><use xlink:href='#icon-file-text2'></use></svg></label><input id='data-261dc381-aff1-43e4-a85f-b89c1e2f569f' class='xr-var-data-in' type='checkbox'><label for='data-261dc381-aff1-43e4-a85f-b89c1e2f569f' title='Show/Hide data repr'><svg class='icon xr-icon-database'><use xlink:href='#icon-database'></use></svg></label><div class='xr-var-attrs'><dl class='xr-attrs'><dt><span>coverage_content_type :</span></dt><dd>auxiliaryInformation</dd><dt><span>flag_masks :</span></dt><dd>1</dd><dt><span>flag_meanings :</span></dt><dd>LAND</dd><dt><span>long_name :</span></dt><dd>Flags</dd><dt><span>standard_name :</span></dt><dd>status_flag</dd><dt><span>valid_max :</span></dt><dd>1</dd><dt><span>valid_min :</span></dt><dd>0</dd></dl></div><div class='xr-var-data'><pre>[373583923200 values with dtype=int8]</pre></div></li></ul></div></li><li class='xr-section-item'><input id='section-12cbf2e7-a0b1-4f09-a06d-898f932eaf73' class='xr-section-summary-in' type='checkbox'  ><label for='section-12cbf2e7-a0b1-4f09-a06d-898f932eaf73' class='xr-section-summary' >Indexes: <span>(3)</span></label><div class='xr-section-inline-details'></div><div class='xr-section-details'><ul class='xr-var-list'><li class='xr-var-item'><div class='xr-index-name'><div>latitude</div></div><div class='xr-index-preview'>PandasIndex</div><input type='checkbox' disabled/><label></label><input id='index-52ffc2d7-0403-4ad4-a117-99038b3b1f60' class='xr-index-data-in' type='checkbox'/><label for='index-52ffc2d7-0403-4ad4-a117-99038b3b1f60' title='Show/Hide index repr'><svg class='icon xr-icon-database'><use xlink:href='#icon-database'></use></svg></label><div class='xr-index-data'><pre>PandasIndex(Index([-89.97917175292969, -89.93750762939453, -89.89583587646484,\n",
       "       -89.85417175292969, -89.81250762939453, -89.77083587646484,\n",
       "       -89.72917175292969, -89.68750762939453, -89.64583587646484,\n",
       "       -89.60417175292969,\n",
       "       ...\n",
       "        89.60416412353516,  89.64583587646484,            89.6875,\n",
       "        89.72916412353516,  89.77083587646484,            89.8125,\n",
       "        89.85416412353516,  89.89583587646484,            89.9375,\n",
       "        89.97916412353516],\n",
       "      dtype=&#x27;float32&#x27;, name=&#x27;latitude&#x27;, length=4320))</pre></div></li><li class='xr-var-item'><div class='xr-index-name'><div>longitude</div></div><div class='xr-index-preview'>PandasIndex</div><input type='checkbox' disabled/><label></label><input id='index-5582e30a-b815-4e00-9231-b7158470aa5d' class='xr-index-data-in' type='checkbox'/><label for='index-5582e30a-b815-4e00-9231-b7158470aa5d' title='Show/Hide index repr'><svg class='icon xr-icon-database'><use xlink:href='#icon-database'></use></svg></label><div class='xr-index-data'><pre>PandasIndex(Index([-179.9791717529297,          -179.9375, -179.8958282470703,\n",
       "       -179.8541717529297,          -179.8125, -179.7708282470703,\n",
       "       -179.7291717529297,          -179.6875, -179.6458282470703,\n",
       "       -179.6041717529297,\n",
       "       ...\n",
       "        179.6041717529297, 179.64584350585938, 179.68751525878906,\n",
       "        179.7291717529297, 179.77084350585938, 179.81251525878906,\n",
       "        179.8541717529297, 179.89584350585938, 179.93751525878906,\n",
       "        179.9791717529297],\n",
       "      dtype=&#x27;float32&#x27;, name=&#x27;longitude&#x27;, length=8640))</pre></div></li><li class='xr-var-item'><div class='xr-index-name'><div>time</div></div><div class='xr-index-preview'>PandasIndex</div><input type='checkbox' disabled/><label></label><input id='index-7dee1f4a-3beb-4c32-bb96-24c1c64f80e3' class='xr-index-data-in' type='checkbox'/><label for='index-7dee1f4a-3beb-4c32-bb96-24c1c64f80e3' title='Show/Hide index repr'><svg class='icon xr-icon-database'><use xlink:href='#icon-database'></use></svg></label><div class='xr-index-data'><pre>PandasIndex(DatetimeIndex([&#x27;1997-09-04&#x27;, &#x27;1997-09-05&#x27;, &#x27;1997-09-06&#x27;, &#x27;1997-09-07&#x27;,\n",
       "               &#x27;1997-09-08&#x27;, &#x27;1997-09-09&#x27;, &#x27;1997-09-10&#x27;, &#x27;1997-09-11&#x27;,\n",
       "               &#x27;1997-09-12&#x27;, &#x27;1997-09-13&#x27;,\n",
       "               ...\n",
       "               &#x27;2025-01-19&#x27;, &#x27;2025-01-20&#x27;, &#x27;2025-01-21&#x27;, &#x27;2025-01-22&#x27;,\n",
       "               &#x27;2025-01-23&#x27;, &#x27;2025-01-24&#x27;, &#x27;2025-01-25&#x27;, &#x27;2025-01-26&#x27;,\n",
       "               &#x27;2025-01-27&#x27;, &#x27;2025-01-28&#x27;],\n",
       "              dtype=&#x27;datetime64[ns]&#x27;, name=&#x27;time&#x27;, length=10009, freq=None))</pre></div></li></ul></div></li><li class='xr-section-item'><input id='section-fd8b5287-a11c-4ea1-80d8-7c2765f8cf54' class='xr-section-summary-in' type='checkbox'  ><label for='section-fd8b5287-a11c-4ea1-80d8-7c2765f8cf54' class='xr-section-summary' >Attributes: <span>(91)</span></label><div class='xr-section-inline-details'></div><div class='xr-section-details'><dl class='xr-attrs'><dt><span>Conventions :</span></dt><dd>CF-1.8, ACDD-1.3</dd><dt><span>DPM_reference :</span></dt><dd>GC-UD-ACRI-PUG</dd><dt><span>IODD_reference :</span></dt><dd>GC-UD-ACRI-PUG</dd><dt><span>acknowledgement :</span></dt><dd>The Licensees will ensure that original CMEMS products - or value added products or derivative works developed from CMEMS Products including publications and pictures - shall credit CMEMS by explicitly making mention of the originator (CMEMS) in the  following manner:  &lt;Generated using CMEMS Products, production centre ACRI-ST&gt;</dd><dt><span>citation :</span></dt><dd>The Licensees will ensure that original CMEMS products - or value added products or derivative works developed from CMEMS Products including publications and pictures - shall credit CMEMS by explicitly making mention of the originator (CMEMS) in the  following manner:  &lt;Generated using CMEMS Products, production centre ACRI-ST&gt;</dd><dt><span>cmems_product_id :</span></dt><dd>OCEANCOLOUR_GLO_BGC_L3_MY_009_103</dd><dt><span>cmems_production_unit :</span></dt><dd>OC-ACRI-NICE-FR</dd><dt><span>comment :</span></dt><dd>average</dd><dt><span>contact :</span></dt><dd>servicedesk.cmems@acri-st.fr</dd><dt><span>creation_date :</span></dt><dd>2024-10-09 UTC</dd><dt><span>creation_time :</span></dt><dd>01:31:44 UTC</dd><dt><span>creator_email :</span></dt><dd>servicedesk.cmems@acri-st.fr</dd><dt><span>creator_name :</span></dt><dd>ACRI</dd><dt><span>creator_url :</span></dt><dd>http://marine.copernicus.eu</dd><dt><span>date_created :</span></dt><dd>2024-10-09T01:31:44Z</dd><dt><span>distribution_statement :</span></dt><dd>See CMEMS Data License</dd><dt><span>duration_time :</span></dt><dd>PT114494S</dd><dt><span>earth_radius :</span></dt><dd>6378.137</dd><dt><span>easternmost_longitude :</span></dt><dd>180.0</dd><dt><span>easternmost_valid_longitude :</span></dt><dd>180.00001525878906</dd><dt><span>file_quality_index :</span></dt><dd>0</dd><dt><span>geospatial_bounds :</span></dt><dd>POLYGON ((90.000000 -180.000000, 90.000000 180.000000, -90.000000 180.000000, -90.000000 -180.000000, 90.000000 -180.000000))</dd><dt><span>geospatial_bounds_crs :</span></dt><dd>EPSG:4326</dd><dt><span>geospatial_bounds_vertical_crs :</span></dt><dd>EPSG:5829</dd><dt><span>geospatial_lat_max :</span></dt><dd>89.97916412353516</dd><dt><span>geospatial_lat_min :</span></dt><dd>-89.97917175292969</dd><dt><span>geospatial_lon_max :</span></dt><dd>179.9791717529297</dd><dt><span>geospatial_lon_min :</span></dt><dd>-179.9791717529297</dd><dt><span>geospatial_vertical_max :</span></dt><dd>0</dd><dt><span>geospatial_vertical_min :</span></dt><dd>0</dd><dt><span>geospatial_vertical_positive :</span></dt><dd>up</dd><dt><span>grid_mapping :</span></dt><dd>Equirectangular</dd><dt><span>grid_resolution :</span></dt><dd>4.638312339782715</dd><dt><span>history :</span></dt><dd>Created using software developed at ACRI-ST</dd><dt><span>id :</span></dt><dd>20241001_cmems_obs-oc_glo_bgc-plankton_myint_l3-multi-4km_P1D</dd><dt><span>institution :</span></dt><dd>ACRI</dd><dt><span>keywords :</span></dt><dd>EARTH SCIENCE &gt; OCEANS &gt; OCEAN CHEMISTRY &gt; CHLOROPHYLL, EARTH SCIENCE &gt; BIOLOGICAL CLASSIFICATION &gt; PROTISTS &gt; PLANKTON &gt; PHYTOPLANKTON</dd><dt><span>keywords_vocabulary :</span></dt><dd>NASA Global Change Master Directory (GCMD) Science Keywords</dd><dt><span>lat_step :</span></dt><dd>0.0416666679084301</dd><dt><span>license :</span></dt><dd>See CMEMS Data License</dd><dt><span>lon_step :</span></dt><dd>0.0416666679084301</dd><dt><span>naming_authority :</span></dt><dd>CMEMS</dd><dt><span>nb_bins :</span></dt><dd>37324800</dd><dt><span>nb_equ_bins :</span></dt><dd>8640</dd><dt><span>nb_grid_bins :</span></dt><dd>37324800</dd><dt><span>nb_valid_bins :</span></dt><dd>10170455</dd><dt><span>netcdf_version_id :</span></dt><dd>4.3.3.1 of Jul  8 2016 18:15:50 $</dd><dt><span>northernmost_latitude :</span></dt><dd>90.0</dd><dt><span>northernmost_valid_latitude :</span></dt><dd>74.70833587646484</dd><dt><span>overall_quality :</span></dt><dd>mode=myint</dd><dt><span>parameter :</span></dt><dd>Chlorophyll-a concentration,Phytoplankton Functional Types</dd><dt><span>parameter_code :</span></dt><dd>CHL,DIATO,DINO,HAPTO,GREEN,PROKAR,PROCHLO,MICRO,NANO,PICO</dd><dt><span>pct_bins :</span></dt><dd>100.0</dd><dt><span>pct_valid_bins :</span></dt><dd>27.248518411351167</dd><dt><span>period_duration_day :</span></dt><dd>P1D</dd><dt><span>period_end_day :</span></dt><dd>20241001</dd><dt><span>period_start_day :</span></dt><dd>20241001</dd><dt><span>platform :</span></dt><dd>Aqua,Suomi-NPP,Sentinel-3a,JPSS-1 (NOAA-20),Sentinel-3b</dd><dt><span>processing_level :</span></dt><dd>L3</dd><dt><span>product_level :</span></dt><dd>3</dd><dt><span>product_name :</span></dt><dd>20241001_cmems_obs-oc_glo_bgc-plankton_myint_l3-multi-4km_P1D</dd><dt><span>product_type :</span></dt><dd>day</dd><dt><span>project :</span></dt><dd>CMEMS</dd><dt><span>publication :</span></dt><dd>Gohin, F., Druon, J. N., Lampert, L. (2002). A five channel chlorophyll concentration algorithm applied to SeaWiFS data processed by SeaDAS in coastal waters. International journal of remote sensing, 23(8), 1639-1661 + Hu, C., Lee, Z., Franz, B. (2012). Chlorophyll a algorithms for oligotrophic oceans: A novel approach based on three-band reflectance difference. Journal of Geophysical Research, 117(C1). doi: 10.1029/2011jc007395 + Xi H, Losa S N, Mangin A, Garnesson P, Bretagnon M, Demaria J, Soppa M A, Hembise Fanton d Andon O, Bracher A (2021) Global chlorophyll a concentrations of phytoplankton functional types with detailed uncertainty assessment using multi-sensor ocean color and sea surface temperature satellite products, JGR,  https://doi.org/10.1029/2020JC017127</dd><dt><span>publisher_email :</span></dt><dd>servicedesk.cmems@mercator-ocean.eu</dd><dt><span>publisher_name :</span></dt><dd>CMEMS</dd><dt><span>publisher_url :</span></dt><dd>http://marine.copernicus.eu</dd><dt><span>references :</span></dt><dd>http://www.globcolour.info GlobColour has been originally funded by ESA with data from ESA, NASA, NOAA and GeoEye. This version has received funding from the European Community s Seventh Framework Programme ([FP7/2007-2013]) under grant agreement n. 282723 [OSS2015 project].</dd><dt><span>registration :</span></dt><dd>5</dd><dt><span>sensor :</span></dt><dd>Moderate Resolution Imaging Spectroradiometer,Visible Infrared Imaging Radiometer Suite,Ocean and Land Colour Instrument</dd><dt><span>sensor_name :</span></dt><dd>MODISA,VIIRSN,OLCIa,VIIRSJ1,OLCIb</dd><dt><span>sensor_name_list :</span></dt><dd>MOD,VIR,OLA,VJ1,OLB</dd><dt><span>site_name :</span></dt><dd>GLO</dd><dt><span>software_name :</span></dt><dd>globcolour_l3_reproject</dd><dt><span>software_version :</span></dt><dd>2022.2</dd><dt><span>source :</span></dt><dd>surface observation</dd><dt><span>southernmost_latitude :</span></dt><dd>-90.0</dd><dt><span>southernmost_valid_latitude :</span></dt><dd>-75.70833587646484</dd><dt><span>standard_name_vocabulary :</span></dt><dd>NetCDF Climate and Forecast (CF) Metadata Convention</dd><dt><span>start_date :</span></dt><dd>2024-09-30 UTC</dd><dt><span>start_time :</span></dt><dd>19:51:46 UTC</dd><dt><span>stop_date :</span></dt><dd>2024-10-02 UTC</dd><dt><span>stop_time :</span></dt><dd>03:39:59 UTC</dd><dt><span>summary :</span></dt><dd>CMEMS product: cmems_obs-oc_glo_bgc-plankton_my_l3-multi-4km_P1D,  generated by ACRI-ST</dd><dt><span>time_coverage_duration :</span></dt><dd>PT114494S</dd><dt><span>time_coverage_end :</span></dt><dd>2024-10-02T03:39:59Z</dd><dt><span>time_coverage_resolution :</span></dt><dd>P1D</dd><dt><span>time_coverage_start :</span></dt><dd>2024-09-30T19:51:46Z</dd><dt><span>title :</span></dt><dd>cmems_obs-oc_glo_bgc-plankton_my_l3-multi-4km_P1D</dd><dt><span>westernmost_longitude :</span></dt><dd>-180.0</dd><dt><span>westernmost_valid_longitude :</span></dt><dd>-180.0</dd></dl></div></li></ul></div></div>"
      ],
      "text/plain": [
       "<xarray.Dataset> Size: 45TB\n",
       "Dimensions:              (time: 10009, latitude: 4320, longitude: 8640)\n",
       "Coordinates:\n",
       "  * latitude             (latitude) float32 17kB -89.98 -89.94 ... 89.94 89.98\n",
       "  * longitude            (longitude) float32 35kB -180.0 -179.9 ... 179.9 180.0\n",
       "  * time                 (time) datetime64[ns] 80kB 1997-09-04 ... 2025-01-28\n",
       "Data variables: (12/21)\n",
       "    CHL                  (time, latitude, longitude) float32 1TB ...\n",
       "    CHL_uncertainty      (time, latitude, longitude) float64 3TB ...\n",
       "    DIATO                (time, latitude, longitude) float32 1TB ...\n",
       "    DIATO_uncertainty    (time, latitude, longitude) float64 3TB ...\n",
       "    DINO                 (time, latitude, longitude) float32 1TB ...\n",
       "    DINO_uncertainty     (time, latitude, longitude) float64 3TB ...\n",
       "    ...                   ...\n",
       "    PICO_uncertainty     (time, latitude, longitude) float64 3TB ...\n",
       "    PROCHLO              (time, latitude, longitude) float32 1TB ...\n",
       "    PROCHLO_uncertainty  (time, latitude, longitude) float64 3TB ...\n",
       "    PROKAR               (time, latitude, longitude) float32 1TB ...\n",
       "    PROKAR_uncertainty   (time, latitude, longitude) float64 3TB ...\n",
       "    flags                (time, latitude, longitude) int8 374GB ...\n",
       "Attributes: (12/91)\n",
       "    Conventions:                     CF-1.8, ACDD-1.3\n",
       "    DPM_reference:                   GC-UD-ACRI-PUG\n",
       "    IODD_reference:                  GC-UD-ACRI-PUG\n",
       "    acknowledgement:                 The Licensees will ensure that original ...\n",
       "    citation:                        The Licensees will ensure that original ...\n",
       "    cmems_product_id:                OCEANCOLOUR_GLO_BGC_L3_MY_009_103\n",
       "    ...                              ...\n",
       "    time_coverage_end:               2024-10-02T03:39:59Z\n",
       "    time_coverage_resolution:        P1D\n",
       "    time_coverage_start:             2024-09-30T19:51:46Z\n",
       "    title:                           cmems_obs-oc_glo_bgc-plankton_my_l3-mult...\n",
       "    westernmost_longitude:           -180.0\n",
       "    westernmost_valid_longitude:     -180.0"
      ]
     },
     "execution_count": 19,
     "metadata": {},
     "output_type": "execute_result"
    }
   ],
   "source": [
    "ds"
   ]
  },
  {
   "cell_type": "markdown",
   "id": "c530614b-fb6e-4fb3-823b-ef1c4b92f353",
   "metadata": {},
   "source": [
    "Note that our dataset contains 3 dimensions (time, longitude, latitude) and several variables. \n",
    "\n",
    "*NB: for the rest of this use case, we'll call the globcolour products `datacubes`, because they have 3 dimensions.*"
   ]
  },
  {
   "cell_type": "code",
   "execution_count": 27,
   "id": "a90fd274-6ea8-4431-a820-6c60f0b55a6c",
   "metadata": {},
   "outputs": [
    {
     "name": "stdout",
     "output_type": "stream",
     "text": [
      "Number of variables: 21\n"
     ]
    }
   ],
   "source": [
    "print(f'Number of variables: {len(ds)}')"
   ]
  },
  {
   "cell_type": "markdown",
   "id": "7629931e-c36a-496a-8aa9-4bb68eed9ca4",
   "metadata": {},
   "source": [
    "ARCO formats are very practical because they allow access to a very large quantity of data from a single source, without loading everything into memory. But just how big is our datacube? \n",
    "\n",
    "To do this, we're going to look at the number of bytes in our datacube and display it in gigabytes."
   ]
  },
  {
   "cell_type": "code",
   "execution_count": 30,
   "id": "59b1dda8-ebe8-4a9c-9898-00636997bcbf",
   "metadata": {},
   "outputs": [
    {
     "name": "stdout",
     "output_type": "stream",
     "text": [
      "Datacube size: 42099 Gb\n"
     ]
    }
   ],
   "source": [
    "print(f\"Datacube size: {round(ds.nbytes / (1024 ** 3))} Gb\")"
   ]
  },
  {
   "cell_type": "markdown",
   "id": "ede4b4a5-1182-4eb3-baca-55e914291adf",
   "metadata": {},
   "source": [
    "Wow... dozens of terabytes of data, our data cube is truly massive. Yet, thanks to the ARCO format and the S3 protocol, we will be able to work with it almost as if the data were in a single local file.\n",
    "\n",
    "For example, if we are interested in the chlorophyll-a data for 2020-01-01, all we need to do is select it by doing:"
   ]
  },
  {
   "cell_type": "code",
   "execution_count": 32,
   "id": "a4551367-1c23-44de-9afa-729021d2e340",
   "metadata": {},
   "outputs": [],
   "source": [
    "sub = ds.sel(time='2020-01-01').CHL"
   ]
  },
  {
   "cell_type": "markdown",
   "id": "e08381c1-d635-44ef-9be6-4651d664dda7",
   "metadata": {},
   "source": [
    "And to display them, all you need to do is:"
   ]
  },
  {
   "cell_type": "code",
   "execution_count": 33,
   "id": "8c31ff66-1d45-4af2-90b6-6b135a4c0ca3",
   "metadata": {},
   "outputs": [
    {
     "name": "stdout",
     "output_type": "stream",
     "text": [
      "CPU times: user 5.66 s, sys: 1.27 s, total: 6.93 s\n",
      "Wall time: 11.5 s\n"
     ]
    },
    {
     "data": {
      "text/plain": [
       "<matplotlib.collections.QuadMesh at 0x2aab07bb9010>"
      ]
     },
     "execution_count": 33,
     "metadata": {},
     "output_type": "execute_result"
    },
    {
     "data": {
      "image/png": "[encoded data removed]",
      "text/plain": [
       "<Figure size 640x480 with 2 Axes>"
      ]
     },
     "metadata": {},
     "output_type": "display_data"
    }
   ],
   "source": [
    "%%time\n",
    "sub.plot()"
   ]
  },
  {
   "cell_type": "code",
   "execution_count": null,
   "id": "dc06e808-26fb-47b0-9409-cd176e9f02f8",
   "metadata": {},
   "outputs": [],
   "source": []
  }
 ],
 "metadata": {
  "kernelspec": {
   "display_name": "Python [conda env:odatis-dev] *",
   "language": "python",
   "name": "conda-env-odatis-dev-py"
  },
  "language_info": {
   "codemirror_mode": {
    "name": "ipython",
    "version": 3
   },
   "file_extension": ".py",
   "mimetype": "text/x-python",
   "name": "python",
   "nbconvert_exporter": "python",
   "pygments_lexer": "ipython3",
   "version": "3.12.8"
  }
 },
 "nbformat": 4,
 "nbformat_minor": 5
}
