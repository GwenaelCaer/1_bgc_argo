{
 "cells": [
  {
   "cell_type": "markdown",
   "id": "17fa43b2-9e86-4945-ac36-c4170ebc0f98",
   "metadata": {},
   "source": [
    "# BGC-Argo Data Calibration & Qualification"
   ]
  },
  {
   "cell_type": "markdown",
   "id": "48e6a290-9129-4ddb-8c5e-71ea8c8516f9",
   "metadata": {},
   "source": [
    "<hr>\n",
    "<img src='https://gitlab.ifremer.fr/odatis/vre/tools/frameworks/-/raw/main/img/standard_banner.png' align='right' width='100%' style=\"margin-bottom: 1rem;\"/>\n",
    "<hr>"
   ]
  },
  {
   "cell_type": "markdown",
   "id": "250c2f18-f0d3-4120-b5e9-4123a58e274f",
   "metadata": {},
   "source": [
    "### About\n",
    "\n",
    "The **BGC-Argo Data Calibration & Qualification** use case consists of a collection of Python-based Jupyter notebooks designed to demonstrate the implementation of a quality control pipeline for BGC-Argo floats, leveraging water color data. The use case will introduce you to:\n",
    "\n",
    "* the ways in which you can access BGC-Argo data & OCEANCOLOUR data\n",
    "* a way of collocating in-situ and satellite data\n",
    "* an approach for distributing a process over a cluster\n",
    "\n",
    "<hr>\n",
    "\n",
    "### Data used\n",
    "\n",
    "| Product Description  | Data Access | Metadata |\n",
    "|:--------------------:|:-------------:|:-----------------:|\n",
    "| BGC-Argo Index | /home/ref-argo/gdac/argo_bio-profile_index.txt | <a href=\"https://www.odatis-ocean.fr/donnees-et-services/acces-aux-donnees/catalogue-complet#/metadata/356ee529-31ea-47ea-9b8f-d0cde2920de9\" target=\"_blank\">link</a> |\n",
    "| Global Ocean Colour ([OCEANCOLOUR_GLO_BGC_L3_MY_009_103](https://data.marine.copernicus.eu/product/OCEANCOLOUR_GLO_BGC_L3_MY_009_103/description)) | Copernicus Marine Toolbox | <a href=\"https://www.odatis-ocean.fr/donnees-et-services/acces-aux-donnees/catalogue-complet#/metadata/356ee529-31ea-47ea-9b8f-d0cde2920de9\" target=\"_blank\">link</a> |"
   ]
  },
  {
   "cell_type": "code",
   "execution_count": null,
   "id": "52743275-aa43-4fbf-8b67-8b7a99dae263",
   "metadata": {},
   "outputs": [],
   "source": []
  }
 ],
 "metadata": {
  "kernelspec": {
   "display_name": "Python [conda env:odatis-dev] *",
   "language": "python",
   "name": "conda-env-odatis-dev-py"
  },
  "language_info": {
   "codemirror_mode": {
    "name": "ipython",
    "version": 3
   },
   "file_extension": ".py",
   "mimetype": "text/x-python",
   "name": "python",
   "nbconvert_exporter": "python",
   "pygments_lexer": "ipython3",
   "version": "3.12.8"
  }
 },
 "nbformat": 4,
 "nbformat_minor": 5
}
