{
 "cells": [
  {
   "cell_type": "markdown",
   "id": "d938a796-642e-4730-8aee-a8d8f8d44ade",
   "metadata": {},
   "source": [
    "---\n",
    "title: 1. Accessing BGC-Argo data\n",
    "authors:\n",
    "  - name: Gwenaël CAËR\n",
    "    affiliations:\n",
    "      - Centre national de la recherche scientifique (CNRS)\n",
    "    orcid: 0009-0003-2920-535X\n",
    "  - name: Catherine SCHMECHTIG\n",
    "    affiliations:\n",
    "      - Centre national de la recherche scientifique (CNRS)\n",
    "    orcid: 0000-0002-1230-164X\n",
    "---"
   ]
  },
  {
   "cell_type": "markdown",
   "id": "2dab5dbe-8c9f-485f-b9bf-1aac76fab119",
   "metadata": {},
   "source": [
    "<hr>\n",
    "\n",
    "<img src='https://gitlab.ifremer.fr/odatis/vre/tools/frameworks/-/raw/main/img/standard_banner.png' align='right' width='100%' style=\"margin-bottom: 1rem;\"/>\n",
    "\n",
    "<hr>"
   ]
  },
  {
   "cell_type": "markdown",
   "id": "09d550ec-8825-4964-a08c-dc691a437535",
   "metadata": {},
   "source": [
    "```{seealso} Learning outcomes\n",
    "At the end of this notebook you will know;\n",
    "* How to <font color=\"#2367a2\">**access**</font> BGC-Argo index.\n",
    "* How to calculate some <font color=\"#2367a2\">**statistics**</font> on BGC-Argo fleet data\n",
    "```"
   ]
  },
  {
   "cell_type": "markdown",
   "id": "4e44e8ca-2f06-422e-88b7-9b58fa1af866",
   "metadata": {},
   "source": [
    "We begin by importing all of the libraries that we need to run this notebook. If you have built your python using the environment file provided in this repository, then you should have everything you need. For more information on building environment, please see the repository **<a href=\"./README.md\" target=\"_blank\">README</a>**."
   ]
  },
  {
   "cell_type": "code",
   "execution_count": null,
   "id": "d770359a-be8b-4f7f-bbeb-e0e954262fab",
   "metadata": {},
   "outputs": [],
   "source": [
    "import pandas as pd\n",
    "import xarray as xr\n",
    "import matplotlib.pyplot as plt"
   ]
  },
  {
   "cell_type": "markdown",
   "id": "72286f47-6b1d-422f-8e59-3988ce604934",
   "metadata": {},
   "source": [
    "## 1.1 Load BGC-Argo Index"
   ]
  },
  {
   "cell_type": "markdown",
   "id": "a84012b6-14a3-4e4a-9372-587305367b5b",
   "metadata": {},
   "source": [
    "All Argo profiles are accessible from an index file, which lists the essential information about each profile. (e.g. id, longitude, latitude, date, etc.). This file can be accessed locally on Datarmor, or via FTP or HTTP. \n",
    "\n",
    "*Choose the access method that suits you best (by default, local access).*"
   ]
  },
  {
   "cell_type": "code",
   "execution_count": null,
   "id": "b45b9658-120e-473e-8979-563a256124a3",
   "metadata": {},
   "outputs": [],
   "source": [
    "# Different ways of accessing the BGC-Argo index file\n",
    "access = {\n",
    "    'ftp': \"ftp://ftp.ifremer.fr/ifremer/argo/argo_bio-profile_index.txt\",\n",
    "    'http': \"https://data-argo.ifremer.fr/argo_bio-profile_index.txt\",\n",
    "    'local': \"/home/ref-argo/gdac/argo_bio-profile_index.txt\",\n",
    "}\n",
    "\n",
    "# Choose the access method that suits you best\n",
    "path = access['local']"
   ]
  },
  {
   "cell_type": "markdown",
   "id": "5d776100-16d8-4344-91a1-0a8324b11777",
   "metadata": {},
   "source": [
    "The 1st step is to load the index file. We also take this opportunity to pre-format the file, by performing the following operations: \n",
    "* Formatting the date in `datetime64` format\n",
    "* Creation of a column for the float identifier\n",
    "* Formatting the parameters as a list"
   ]
  },
  {
   "cell_type": "code",
   "execution_count": null,
   "id": "12127bcd-07ff-45d4-b1e1-079e60254ae3",
   "metadata": {},
   "outputs": [],
   "source": [
    "# Open and format the BGC-ARgo index file\n",
    "df = pd.read_csv(path, sep=\",\", header=8)\n",
    "df['date']= pd.to_datetime(df['date'], format='%Y%m%d%H%M%S')\n",
    "df['id'] = df['file'].str.split('/').str[1]\n",
    "df[\"parameters\"] = df[\"parameters\"].str.split()\n",
    "df.head()"
   ]
  },
  {
   "cell_type": "markdown",
   "id": "c018bfe5-e8ba-4d86-8b35-c279eb48399a",
   "metadata": {},
   "source": [
    "The result is a table listing all the existing BGC-Argo profiles, known as an index. For each profile, we find the essential information concerning it:\n",
    "* **id:** the ARGO float identifier\n",
    "* **longitude / latitude:** the geographical coordinates where the profile was acquired\n",
    "* **date:** the date on which the profile was acquired\n",
    "* **parameters:** the list of parameters available for this profile\n",
    "* **file:** the path to the profile data\n",
    "  \n",
    "Now that we have access to the index file, let's calculate some statistics to get a better idea of the size and content of the BGC-Argo fleet."
   ]
  },
  {
   "cell_type": "markdown",
   "id": "99bbfd40-3ffc-4dcc-9b53-2fb180980e29",
   "metadata": {},
   "source": [
    "## 1.2 Some statistics on profiles\n",
    "\n",
    "####  Number of floats and profiles"
   ]
  },
  {
   "cell_type": "markdown",
   "id": "5d62f46a-24ab-479f-893f-050cc433165d",
   "metadata": {},
   "source": [
    "To get an idea of what we're talking about when we talk about the BGC-Argo fleet, we'll start by looking at the number of floats and the number of profiles."
   ]
  },
  {
   "cell_type": "code",
   "execution_count": null,
   "id": "644be1f0-6fc3-462a-beba-c9937d3c57ec",
   "metadata": {},
   "outputs": [],
   "source": [
    "# Groupby by float\n",
    "floats = df.groupby(\"id\")[\"date\"].agg(min_date=\"min\", max_date=\"max\", count=\"size\").reset_index().sort_values(by=\"count\", ascending=False)"
   ]
  },
  {
   "cell_type": "code",
   "execution_count": null,
   "id": "59703485-af7a-4514-b339-e7c75355d5c4",
   "metadata": {},
   "outputs": [],
   "source": [
    "print(\n",
    "    f\"Number of floats: {len(floats)}\",\n",
    "    f\"\\nNumber of profiles: {sum(floats['count'])}\"\n",
    ")"
   ]
  },
  {
   "cell_type": "markdown",
   "id": "abdca8a0-a48c-4a85-b2ee-19f90aa330c9",
   "metadata": {},
   "source": [
    "Obviously the distribution of profiles is not equitable between all the floats, so let's take a look at the 10 floats that have acquired the most profiles. "
   ]
  },
  {
   "cell_type": "code",
   "execution_count": null,
   "id": "f8a4390b-f7f7-4897-827b-42b07a69b295",
   "metadata": {},
   "outputs": [],
   "source": [
    "flts = floats.head(10)\n",
    "plt.figure(figsize=(8, 5))\n",
    "plt.bar(flts[\"id\"], flts[\"count\"], color=\"#2367a2\")\n",
    "plt.xlabel(\"Floats\")\n",
    "plt.ylabel(\"Number of profiles\")\n",
    "plt.title(\"The 10 floats with the most profiles\")\n",
    "plt.xticks(rotation=90)\n",
    "plt.grid(axis=\"y\", linestyle=\"--\", alpha=0.7)\n",
    "plt.show()"
   ]
  },
  {
   "cell_type": "markdown",
   "id": "c3c537a4-defe-4795-8a6a-84f962eb9822",
   "metadata": {},
   "source": [
    "#### Number of parameters"
   ]
  },
  {
   "cell_type": "markdown",
   "id": "9176cd10-ae28-453a-9ad5-b90f39f435c3",
   "metadata": {},
   "source": [
    "Each float has a number of sensors, so not all profiles contain the same parameters. It is interesting to see the number of parameters that exist and which are the most represented. "
   ]
  },
  {
   "cell_type": "code",
   "execution_count": null,
   "id": "f62e9dee-80e3-4cb7-b37b-042969c4f10e",
   "metadata": {},
   "outputs": [],
   "source": [
    "# Groupby by parameters\n",
    "params = df.explode(\"parameters\", ignore_index=True).groupby(\"parameters\").size().reset_index(name=\"count\").sort_values(by=\"count\", ascending=False)"
   ]
  },
  {
   "cell_type": "code",
   "execution_count": null,
   "id": "d89fc91c-6055-43c9-98d8-57aa4bc6bfb3",
   "metadata": {},
   "outputs": [],
   "source": [
    "print(f\"Number of parameters: {len(params)}\")"
   ]
  },
  {
   "cell_type": "code",
   "execution_count": null,
   "id": "1ef4248e-f8db-4003-8baf-a5658695cbbd",
   "metadata": {},
   "outputs": [],
   "source": [
    "prms = params.head(10)\n",
    "plt.figure(figsize=(8, 5))\n",
    "plt.bar(prms[\"parameters\"], prms[\"count\"], color=\"#2367a2\")\n",
    "plt.xlabel(\"Parameters\")\n",
    "plt.ylabel(\"Number of profiles\")\n",
    "plt.title(\"The 10 most represented parameters\")\n",
    "plt.xticks(rotation=90)\n",
    "plt.grid(axis=\"y\", linestyle=\"--\", alpha=0.7)\n",
    "plt.show()"
   ]
  },
  {
   "cell_type": "markdown",
   "id": "3f271f0c-44ba-435c-8ec8-7ae0b3dd73e6",
   "metadata": {},
   "source": [
    "## 1.3 Formatting the data for collocation\n",
    "\n",
    "Now that we know a little more about the content of the BGC-Argo fleet, we are going to finalise the formatting of the data for the rest of our use case. \n",
    "\n",
    "To calibrate and qualify the BGC-Argo data, we're going to use the data from the `OCEANCOLOUR` satellite product. To do this, we'll need floats with a chlorophyll-a sensor (noted `CHLA`)."
   ]
  },
  {
   "cell_type": "code",
   "execution_count": null,
   "id": "11dfed7e-1cdc-4e8d-b4b5-89a0212f9aac",
   "metadata": {},
   "outputs": [],
   "source": [
    "df = df[df['parameters'].apply(lambda x: 'CHLA' in x)]\n",
    "df = df.dropna(subset=['longitude', 'latitude', 'id', 'date'])\n",
    "dataset = xr.Dataset.from_dataframe(df)\n",
    "dataset = dataset.rename({'index':'obs', 'longitude':'lon', 'latitude':'lat', 'date':'time'})\n",
    "dataset"
   ]
  }
 ],
 "metadata": {
  "kernelspec": {
   "display_name": "Python [conda env:odatis-dev] *",
   "language": "python",
   "name": "conda-env-odatis-dev-py"
  },
  "language_info": {
   "codemirror_mode": {
    "name": "ipython",
    "version": 3
   },
   "file_extension": ".py",
   "mimetype": "text/x-python",
   "name": "python",
   "nbconvert_exporter": "python",
   "pygments_lexer": "ipython3",
   "version": "3.12.8"
  }
 },
 "nbformat": 4,
 "nbformat_minor": 5
}
